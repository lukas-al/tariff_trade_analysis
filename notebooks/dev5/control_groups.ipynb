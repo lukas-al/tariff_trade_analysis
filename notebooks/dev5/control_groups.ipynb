{
 "cells": [
  {
   "cell_type": "markdown",
   "metadata": {},
   "source": [
    "# Control groups\n",
    "Inspect what our control groups actually look like. Given we have so many degrees of freedom, this entails charting a bunch of seperate lines.\n",
    "\n",
    "We need to view the following:\n",
    "\n",
    "US imports:\n",
    "\n",
    "    - Tariffed vs non-tariffed goods\n",
    "    - From China and RoW\n",
    "\n",
    "China exports:\n",
    "\n",
    "    - Tariffed vs non-tariffed goods\n",
    "\n",
    "\n",
    "UK imports:\n",
    "\n",
    "    - Tariffed vs non-tariffed goods\n",
    "    - From China and RoW"
   ]
  },
  {
   "cell_type": "markdown",
   "metadata": {},
   "source": [
    "## Setup"
   ]
  },
  {
   "cell_type": "code",
   "execution_count": 1,
   "metadata": {},
   "outputs": [],
   "source": [
    "import polars as pl\n",
    "import plotly.express as px\n",
    "import pandas as pd\n",
    "from typing import List\n",
    "\n",
    "import plotly.graph_objs as go\n",
    "from plotly.subplots import make_subplots\n"
   ]
  },
  {
   "cell_type": "code",
   "execution_count": 2,
   "metadata": {},
   "outputs": [],
   "source": [
    "# 1. Load data\n",
    "unified_lf_path = \"/Users/lukasalemu/Documents/00. Bank of England/03. MPIL/tariff_trade_analysis/data/final/unified_trade_tariff_partitioned\"\n",
    "unified_lf = pl.scan_parquet(unified_lf_path)"
   ]
  },
  {
   "cell_type": "code",
   "execution_count": 3,
   "metadata": {},
   "outputs": [],
   "source": [
    "HM_tariffs: pl.DataFrame = pl.read_csv(\n",
    "    \"/Users/lukasalemu/Documents/00. Bank of England/03. MPIL/tariff_trade_analysis/data/intermediate/cm_us_tariffs.csv\", \n",
    "    try_parse_dates=True\n",
    ")\n",
    "\n",
    "tariffed_products = HM_tariffs.filter(\n",
    "    pl.col(\"Effective Date\") > pd.Timestamp(\"2019-01-01\")\n",
    ")\n",
    "\n",
    "tariffed_products: List = tariffed_products['product_code'].cast(pl.Utf8).to_list()"
   ]
  },
  {
   "cell_type": "code",
   "execution_count": 4,
   "metadata": {},
   "outputs": [
    {
     "data": {
      "text/html": [
       "<div><style>\n",
       ".dataframe > thead > tr,\n",
       ".dataframe > tbody > tr {\n",
       "  text-align: right;\n",
       "  white-space: pre-wrap;\n",
       "}\n",
       "</style>\n",
       "<small>shape: (5, 25)</small><table border=\"1\" class=\"dataframe\"><thead><tr><th>year</th><th>reporter_country</th><th>partner_country</th><th>product_code</th><th>value</th><th>quantity</th><th>tariff_rate_pref</th><th>min_rate_pref</th><th>max_rate_pref</th><th>tariff_rate_mfn</th><th>min_rate_mfn</th><th>max_rate_mfn</th><th>average_tariff</th><th>unit_value</th><th>value_global_trend</th><th>value_detrended</th><th>quantity_global_trend</th><th>quantity_detrended</th><th>price_global_trend</th><th>unit_value_detrended</th><th>official_tariff</th><th>average_tariff_official</th><th>value_global_trend_right</th><th>quantity_global_trend_right</th><th>price_global_trend_right</th></tr><tr><td>str</td><td>str</td><td>str</td><td>str</td><td>f32</td><td>f32</td><td>f32</td><td>f32</td><td>f32</td><td>f32</td><td>f32</td><td>f32</td><td>f32</td><td>f32</td><td>f32</td><td>f32</td><td>f32</td><td>f32</td><td>f32</td><td>f32</td><td>f32</td><td>f32</td><td>f32</td><td>f32</td><td>f32</td></tr></thead><tbody><tr><td>&quot;1995&quot;</td><td>&quot;250&quot;</td><td>&quot;566&quot;</td><td>&quot;850720&quot;</td><td>130.979004</td><td>10.187</td><td>0.0</td><td>0.0</td><td>0.0</td><td>57.509998</td><td>57.509998</td><td>57.509998</td><td>0.0</td><td>12.857466</td><td>2.925173</td><td>128.053833</td><td>2.925173</td><td>7.261827</td><td>2.925173</td><td>9.932293</td><td>0.0</td><td>0.0</td><td>2.925173</td><td>2.925174</td><td>2.925173</td></tr><tr><td>&quot;1995&quot;</td><td>&quot;250&quot;</td><td>&quot;608&quot;</td><td>&quot;620193&quot;</td><td>83.441002</td><td>0.699</td><td>11.7</td><td>11.7</td><td>11.7</td><td>null</td><td>null</td><td>null</td><td>11.7</td><td>119.371964</td><td>22.935419</td><td>60.505585</td><td>22.935429</td><td>-22.236429</td><td>22.935429</td><td>96.436539</td><td>0.0</td><td>11.7</td><td>22.935425</td><td>22.935425</td><td>22.935425</td></tr><tr><td>&quot;1995&quot;</td><td>&quot;276&quot;</td><td>&quot;686&quot;</td><td>&quot;300490&quot;</td><td>22.0</td><td>1.2</td><td>0.0</td><td>0.0</td><td>0.0</td><td>null</td><td>null</td><td>null</td><td>0.0</td><td>18.333332</td><td>41.930824</td><td>-19.930824</td><td>41.930832</td><td>-40.730831</td><td>41.930824</td><td>-23.597492</td><td>0.0</td><td>0.0</td><td>41.930836</td><td>41.930828</td><td>41.930828</td></tr><tr><td>&quot;1995&quot;</td><td>&quot;250&quot;</td><td>&quot;392&quot;</td><td>&quot;400610&quot;</td><td>1.604</td><td>0.097</td><td>null</td><td>null</td><td>null</td><td>3.9</td><td>3.9</td><td>3.9</td><td>3.9</td><td>16.536081</td><td>2.697191</td><td>-1.093191</td><td>2.697191</td><td>-2.600191</td><td>2.69719</td><td>13.838892</td><td>0.0</td><td>3.9</td><td>2.69719</td><td>2.69719</td><td>2.69719</td></tr><tr><td>&quot;1995&quot;</td><td>&quot;250&quot;</td><td>&quot;446&quot;</td><td>&quot;880330&quot;</td><td>155.449997</td><td>0.419</td><td>0.0</td><td>0.0</td><td>0.0</td><td>null</td><td>null</td><td>null</td><td>0.0</td><td>371.00238</td><td>495.343719</td><td>-339.893738</td><td>495.343781</td><td>-494.924774</td><td>495.343842</td><td>-124.341461</td><td>0.0</td><td>0.0</td><td>495.343658</td><td>495.343781</td><td>495.343781</td></tr></tbody></table></div>"
      ],
      "text/plain": [
       "shape: (5, 25)\n",
       "┌──────┬────────────┬────────────┬────────────┬───┬────────────┬───────────┬───────────┬───────────┐\n",
       "│ year ┆ reporter_c ┆ partner_co ┆ product_co ┆ … ┆ average_ta ┆ value_glo ┆ quantity_ ┆ price_glo │\n",
       "│ ---  ┆ ountry     ┆ untry      ┆ de         ┆   ┆ riff_offic ┆ bal_trend ┆ global_tr ┆ bal_trend │\n",
       "│ str  ┆ ---        ┆ ---        ┆ ---        ┆   ┆ ial        ┆ _right    ┆ end_right ┆ _right    │\n",
       "│      ┆ str        ┆ str        ┆ str        ┆   ┆ ---        ┆ ---       ┆ ---       ┆ ---       │\n",
       "│      ┆            ┆            ┆            ┆   ┆ f32        ┆ f32       ┆ f32       ┆ f32       │\n",
       "╞══════╪════════════╪════════════╪════════════╪═══╪════════════╪═══════════╪═══════════╪═══════════╡\n",
       "│ 1995 ┆ 250        ┆ 566        ┆ 850720     ┆ … ┆ 0.0        ┆ 2.925173  ┆ 2.925174  ┆ 2.925173  │\n",
       "│ 1995 ┆ 250        ┆ 608        ┆ 620193     ┆ … ┆ 11.7       ┆ 22.935425 ┆ 22.935425 ┆ 22.935425 │\n",
       "│ 1995 ┆ 276        ┆ 686        ┆ 300490     ┆ … ┆ 0.0        ┆ 41.930836 ┆ 41.930828 ┆ 41.930828 │\n",
       "│ 1995 ┆ 250        ┆ 392        ┆ 400610     ┆ … ┆ 3.9        ┆ 2.69719   ┆ 2.69719   ┆ 2.69719   │\n",
       "│ 1995 ┆ 250        ┆ 446        ┆ 880330     ┆ … ┆ 0.0        ┆ 495.34365 ┆ 495.34378 ┆ 495.34378 │\n",
       "│      ┆            ┆            ┆            ┆   ┆            ┆ 8         ┆ 1         ┆ 1         │\n",
       "└──────┴────────────┴────────────┴────────────┴───┴────────────┴───────────┴───────────┴───────────┘"
      ]
     },
     "execution_count": 4,
     "metadata": {},
     "output_type": "execute_result"
    }
   ],
   "source": [
    "unified_lf.head().collect()"
   ]
  },
  {
   "cell_type": "code",
   "execution_count": 5,
   "metadata": {},
   "outputs": [],
   "source": [
    "# Drop alu and steel from the set\n",
    "alu_steel_product_codes = [\n",
    "    # Steel Products\n",
    "    # 720610 through 721650\n",
    "    \"720610\", \"720690\", \"720711\", \"720712\", \"720719\", \"720720\", \"720810\",\n",
    "    \"720825\", \"720826\", \"720827\", \"720836\", \"720837\", \"720838\", \"720839\",\n",
    "    \"720840\", \"720851\", \"720852\", \"720853\", \"720854\", \"720890\", \"720915\",\n",
    "    \"720916\", \"720917\", \"720918\", \"720925\", \"720926\", \"720927\", \"720928\",\n",
    "    \"720990\", \"721011\", \"721012\", \"721020\", \"721030\", \"721041\", \"721049\",\n",
    "    \"721050\", \"721061\", \"721069\", \"721070\", \"721090\", \"721113\", \"721114\",\n",
    "    \"721119\", \"721123\", \"721129\", \"721190\", \"721210\", \"721220\", \"721230\",\n",
    "    \"721240\", \"721250\", \"721260\", \"721310\", \"721320\", \"721391\", \"721399\",\n",
    "    \"721410\", \"721420\", \"721430\", \"721491\", \"721499\", \"721510\", \"721550\",\n",
    "    \"721590\", \"721610\", \"721621\", \"721622\", \"721631\", \"721632\", \"721633\",\n",
    "    \"721640\", \"721650\",\n",
    "\n",
    "    # 721699 through 730110\n",
    "    \"721699\", \"721710\", \"721720\", \"721730\", \"721790\", \"721810\", \"721891\",\n",
    "    \"721899\", \"721911\", \"721912\", \"721913\", \"721914\", \"721921\", \"721922\",\n",
    "    \"721923\", \"721924\", \"721931\", \"721932\", \"721933\", \"721934\", \"721935\",\n",
    "    \"721990\", \"722011\", \"722012\", \"722020\", \"722090\", \"722100\", \"722211\",\n",
    "    \"722219\", \"722220\", \"722230\", \"722240\", \"722300\", \"722410\", \"722490\",\n",
    "    \"722511\", \"722519\", \"722530\", \"722540\", \"722550\", \"722591\", \"722592\",\n",
    "    \"722599\", \"722611\", \"722619\", \"722620\", \"722691\", \"722692\", \"722699\",\n",
    "    \"722710\", \"722720\", \"722790\", \"722810\", \"722820\", \"722830\", \"722840\",\n",
    "    \"722850\", \"722860\", \"722870\", \"722880\", \"722920\", \"722990\", \"730110\",\n",
    "\n",
    "    # 730210\n",
    "    \"730210\",\n",
    "\n",
    "    # 730240 through 730290\n",
    "    \"730240\", \"730290\",\n",
    "\n",
    "    # 730410 through 730690\n",
    "    \"730411\", \"730419\", \"730422\", \"730423\", \"730424\", \"730429\", \"730431\",\n",
    "    \"730439\", \"730441\", \"730449\", \"730451\", \"730459\", \"730490\", \"730511\",\n",
    "    \"730512\", \"730519\", \"730520\", \"730531\", \"730539\", \"730590\", \"730611\",\n",
    "    \"730619\", \"730621\", \"730629\", \"730630\", \"730640\", \"730650\", \"730661\",\n",
    "    \"730669\", \"730690\",\n",
    "\n",
    "    # Aluminum Products\n",
    "    # 7601 (Unwrought aluminum)\n",
    "    \"760110\", \"760120\",\n",
    "\n",
    "    # 7604 (Aluminum bars, rods, and profiles)\n",
    "    \"760410\", \"760421\", \"760429\",\n",
    "\n",
    "    # 7605 (Aluminum wire)\n",
    "    \"760511\", \"760519\", \"760521\", \"760529\",\n",
    "\n",
    "    # 7606 (Aluminum plates, sheets, and strip)\n",
    "    \"760611\", \"760612\", \"760691\", \"760692\",\n",
    "\n",
    "    # 7607 (Aluminum foil)\n",
    "    \"760711\", \"760719\", \"760720\",\n",
    "\n",
    "    # 7608 (Aluminum tubes and pipes)\n",
    "    \"760810\", \"760820\",\n",
    "\n",
    "    # 7609 (Aluminum tube or pipe fittings)\n",
    "    \"760900\",\n",
    "]\n",
    "\n",
    "unified_lf = unified_lf.filter(\n",
    "    ~pl.col('product_code').is_in(alu_steel_product_codes)\n",
    ")\n"
   ]
  },
  {
   "cell_type": "markdown",
   "metadata": {},
   "source": [
    "## US total imports vs RoW imports - tariffed vs non-tariffed\n",
    "**not** specifically from China. This is about general demand - showing one of the diff-in-diffs we're doing here"
   ]
  },
  {
   "cell_type": "code",
   "execution_count": 6,
   "metadata": {},
   "outputs": [
    {
     "data": {
      "application/vnd.plotly.v1+json": {
       "config": {
        "plotlyServerURL": "https://plot.ly"
       },
       "data": [
        {
         "legendgroup": "USA - Tariffed",
         "line": {
          "color": "crimson",
          "dash": "solid"
         },
         "mode": "lines",
         "name": "USA - Tariffed",
         "type": "scatter",
         "x": [
          "2017",
          "2018",
          "2019",
          "2020"
         ],
         "xaxis": "x",
         "y": {
          "bdata": "AADIQh040kKkkNFC5y27Qg==",
          "dtype": "f4"
         },
         "yaxis": "y"
        },
        {
         "legendgroup": "USA - Tariffed",
         "line": {
          "color": "crimson",
          "dash": "solid"
         },
         "mode": "lines",
         "name": "USA - Tariffed",
         "showlegend": false,
         "type": "scatter",
         "x": [
          "2017",
          "2018",
          "2019",
          "2020"
         ],
         "xaxis": "x2",
         "y": {
          "bdata": "AADIQoLpxkL7bsRCyrvAQg==",
          "dtype": "f4"
         },
         "yaxis": "y2"
        },
        {
         "legendgroup": "USA - Tariffed",
         "line": {
          "color": "crimson",
          "dash": "solid"
         },
         "mode": "lines",
         "name": "USA - Tariffed",
         "showlegend": false,
         "type": "scatter",
         "x": [
          "2017",
          "2018",
          "2019",
          "2020"
         ],
         "xaxis": "x3",
         "y": {
          "bdata": "AADIQm5e00KxXtVCgjzCQg==",
          "dtype": "f4"
         },
         "yaxis": "y3"
        },
        {
         "legendgroup": "USA - Non-Tariffed",
         "line": {
          "color": "royalblue",
          "dash": "solid"
         },
         "mode": "lines",
         "name": "USA - Non-Tariffed",
         "type": "scatter",
         "x": [
          "2017",
          "2018",
          "2019",
          "2020"
         ],
         "xaxis": "x",
         "y": {
          "bdata": "AADIQsAz1kIzN9BCGhy5Qg==",
          "dtype": "f4"
         },
         "yaxis": "y"
        },
        {
         "legendgroup": "USA - Non-Tariffed",
         "line": {
          "color": "royalblue",
          "dash": "solid"
         },
         "mode": "lines",
         "name": "USA - Non-Tariffed",
         "showlegend": false,
         "type": "scatter",
         "x": [
          "2017",
          "2018",
          "2019",
          "2020"
         ],
         "xaxis": "x2",
         "y": {
          "bdata": "AADIQjJk2kLm9OFC4vDbQg==",
          "dtype": "f4"
         },
         "yaxis": "y2"
        },
        {
         "legendgroup": "USA - Non-Tariffed",
         "line": {
          "color": "royalblue",
          "dash": "solid"
         },
         "mode": "lines",
         "name": "USA - Non-Tariffed",
         "showlegend": false,
         "type": "scatter",
         "x": [
          "2017",
          "2018",
          "2019",
          "2020"
         ],
         "xaxis": "x3",
         "y": {
          "bdata": "AADIQt0pxEIFTLhCqFOoQg==",
          "dtype": "f4"
         },
         "yaxis": "y3"
        },
        {
         "legendgroup": "Rest of World - Tariffed",
         "line": {
          "color": "crimson",
          "dash": "dot"
         },
         "mode": "lines",
         "name": "Rest of World - Tariffed",
         "type": "scatter",
         "x": [
          "2017",
          "2018",
          "2019",
          "2020"
         ],
         "xaxis": "x",
         "y": {
          "bdata": "AADIQue400JNuNFCONnIQg==",
          "dtype": "f4"
         },
         "yaxis": "y"
        },
        {
         "legendgroup": "Rest of World - Tariffed",
         "line": {
          "color": "crimson",
          "dash": "dot"
         },
         "mode": "lines",
         "name": "Rest of World - Tariffed",
         "showlegend": false,
         "type": "scatter",
         "x": [
          "2017",
          "2018",
          "2019",
          "2020"
         ],
         "xaxis": "x2",
         "y": {
          "bdata": "AADIQhqizUK8itVCIH3SQg==",
          "dtype": "f4"
         },
         "yaxis": "y2"
        },
        {
         "legendgroup": "Rest of World - Tariffed",
         "line": {
          "color": "crimson",
          "dash": "dot"
         },
         "mode": "lines",
         "name": "Rest of World - Tariffed",
         "showlegend": false,
         "type": "scatter",
         "x": [
          "2017",
          "2018",
          "2019",
          "2020"
         ],
         "xaxis": "x3",
         "y": {
          "bdata": "AADIQhrszUKca8RCEte+Qg==",
          "dtype": "f4"
         },
         "yaxis": "y3"
        },
        {
         "legendgroup": "Rest of World - Non-Tariffed",
         "line": {
          "color": "royalblue",
          "dash": "dot"
         },
         "mode": "lines",
         "name": "Rest of World - Non-Tariffed",
         "type": "scatter",
         "x": [
          "2017",
          "2018",
          "2019",
          "2020"
         ],
         "xaxis": "x",
         "y": {
          "bdata": "AADIQpbX2kJd9dNC5/vDQg==",
          "dtype": "f4"
         },
         "yaxis": "y"
        },
        {
         "legendgroup": "Rest of World - Non-Tariffed",
         "line": {
          "color": "royalblue",
          "dash": "dot"
         },
         "mode": "lines",
         "name": "Rest of World - Non-Tariffed",
         "showlegend": false,
         "type": "scatter",
         "x": [
          "2017",
          "2018",
          "2019",
          "2020"
         ],
         "xaxis": "x2",
         "y": {
          "bdata": "AADIQih4wkLW1tBCfgLIQg==",
          "dtype": "f4"
         },
         "yaxis": "y2"
        },
        {
         "legendgroup": "Rest of World - Non-Tariffed",
         "line": {
          "color": "royalblue",
          "dash": "dot"
         },
         "mode": "lines",
         "name": "Rest of World - Non-Tariffed",
         "showlegend": false,
         "type": "scatter",
         "x": [
          "2017",
          "2018",
          "2019",
          "2020"
         ],
         "xaxis": "x3",
         "y": {
          "bdata": "AADIQt8Q4UK6/MpCdfnDQg==",
          "dtype": "f4"
         },
         "yaxis": "y3"
        }
       ],
       "layout": {
        "annotations": [
         {
          "font": {
           "size": 16
          },
          "showarrow": false,
          "text": "Indexed Import Value",
          "x": 0.5,
          "xanchor": "center",
          "xref": "paper",
          "y": 1,
          "yanchor": "bottom",
          "yref": "paper"
         },
         {
          "font": {
           "size": 16
          },
          "showarrow": false,
          "text": "Indexed Import Quantity",
          "x": 0.5,
          "xanchor": "center",
          "xref": "paper",
          "y": 0.6399999999999999,
          "yanchor": "bottom",
          "yref": "paper"
         },
         {
          "font": {
           "size": 16
          },
          "showarrow": false,
          "text": "Indexed Import Unit Value",
          "x": 0.5,
          "xanchor": "center",
          "xref": "paper",
          "y": 0.27999999999999997,
          "yanchor": "bottom",
          "yref": "paper"
         }
        ],
        "height": 800,
        "hovermode": "x unified",
        "hoversubplots": "axis",
        "legend": {
         "title": {
          "text": "Region & Product Type"
         }
        },
        "template": {
         "data": {
          "bar": [
           {
            "error_x": {
             "color": "#2a3f5f"
            },
            "error_y": {
             "color": "#2a3f5f"
            },
            "marker": {
             "line": {
              "color": "#E5ECF6",
              "width": 0.5
             },
             "pattern": {
              "fillmode": "overlay",
              "size": 10,
              "solidity": 0.2
             }
            },
            "type": "bar"
           }
          ],
          "barpolar": [
           {
            "marker": {
             "line": {
              "color": "#E5ECF6",
              "width": 0.5
             },
             "pattern": {
              "fillmode": "overlay",
              "size": 10,
              "solidity": 0.2
             }
            },
            "type": "barpolar"
           }
          ],
          "carpet": [
           {
            "aaxis": {
             "endlinecolor": "#2a3f5f",
             "gridcolor": "white",
             "linecolor": "white",
             "minorgridcolor": "white",
             "startlinecolor": "#2a3f5f"
            },
            "baxis": {
             "endlinecolor": "#2a3f5f",
             "gridcolor": "white",
             "linecolor": "white",
             "minorgridcolor": "white",
             "startlinecolor": "#2a3f5f"
            },
            "type": "carpet"
           }
          ],
          "choropleth": [
           {
            "colorbar": {
             "outlinewidth": 0,
             "ticks": ""
            },
            "type": "choropleth"
           }
          ],
          "contour": [
           {
            "colorbar": {
             "outlinewidth": 0,
             "ticks": ""
            },
            "colorscale": [
             [
              0,
              "#0d0887"
             ],
             [
              0.1111111111111111,
              "#46039f"
             ],
             [
              0.2222222222222222,
              "#7201a8"
             ],
             [
              0.3333333333333333,
              "#9c179e"
             ],
             [
              0.4444444444444444,
              "#bd3786"
             ],
             [
              0.5555555555555556,
              "#d8576b"
             ],
             [
              0.6666666666666666,
              "#ed7953"
             ],
             [
              0.7777777777777778,
              "#fb9f3a"
             ],
             [
              0.8888888888888888,
              "#fdca26"
             ],
             [
              1,
              "#f0f921"
             ]
            ],
            "type": "contour"
           }
          ],
          "contourcarpet": [
           {
            "colorbar": {
             "outlinewidth": 0,
             "ticks": ""
            },
            "type": "contourcarpet"
           }
          ],
          "heatmap": [
           {
            "colorbar": {
             "outlinewidth": 0,
             "ticks": ""
            },
            "colorscale": [
             [
              0,
              "#0d0887"
             ],
             [
              0.1111111111111111,
              "#46039f"
             ],
             [
              0.2222222222222222,
              "#7201a8"
             ],
             [
              0.3333333333333333,
              "#9c179e"
             ],
             [
              0.4444444444444444,
              "#bd3786"
             ],
             [
              0.5555555555555556,
              "#d8576b"
             ],
             [
              0.6666666666666666,
              "#ed7953"
             ],
             [
              0.7777777777777778,
              "#fb9f3a"
             ],
             [
              0.8888888888888888,
              "#fdca26"
             ],
             [
              1,
              "#f0f921"
             ]
            ],
            "type": "heatmap"
           }
          ],
          "histogram": [
           {
            "marker": {
             "pattern": {
              "fillmode": "overlay",
              "size": 10,
              "solidity": 0.2
             }
            },
            "type": "histogram"
           }
          ],
          "histogram2d": [
           {
            "colorbar": {
             "outlinewidth": 0,
             "ticks": ""
            },
            "colorscale": [
             [
              0,
              "#0d0887"
             ],
             [
              0.1111111111111111,
              "#46039f"
             ],
             [
              0.2222222222222222,
              "#7201a8"
             ],
             [
              0.3333333333333333,
              "#9c179e"
             ],
             [
              0.4444444444444444,
              "#bd3786"
             ],
             [
              0.5555555555555556,
              "#d8576b"
             ],
             [
              0.6666666666666666,
              "#ed7953"
             ],
             [
              0.7777777777777778,
              "#fb9f3a"
             ],
             [
              0.8888888888888888,
              "#fdca26"
             ],
             [
              1,
              "#f0f921"
             ]
            ],
            "type": "histogram2d"
           }
          ],
          "histogram2dcontour": [
           {
            "colorbar": {
             "outlinewidth": 0,
             "ticks": ""
            },
            "colorscale": [
             [
              0,
              "#0d0887"
             ],
             [
              0.1111111111111111,
              "#46039f"
             ],
             [
              0.2222222222222222,
              "#7201a8"
             ],
             [
              0.3333333333333333,
              "#9c179e"
             ],
             [
              0.4444444444444444,
              "#bd3786"
             ],
             [
              0.5555555555555556,
              "#d8576b"
             ],
             [
              0.6666666666666666,
              "#ed7953"
             ],
             [
              0.7777777777777778,
              "#fb9f3a"
             ],
             [
              0.8888888888888888,
              "#fdca26"
             ],
             [
              1,
              "#f0f921"
             ]
            ],
            "type": "histogram2dcontour"
           }
          ],
          "mesh3d": [
           {
            "colorbar": {
             "outlinewidth": 0,
             "ticks": ""
            },
            "type": "mesh3d"
           }
          ],
          "parcoords": [
           {
            "line": {
             "colorbar": {
              "outlinewidth": 0,
              "ticks": ""
             }
            },
            "type": "parcoords"
           }
          ],
          "pie": [
           {
            "automargin": true,
            "type": "pie"
           }
          ],
          "scatter": [
           {
            "fillpattern": {
             "fillmode": "overlay",
             "size": 10,
             "solidity": 0.2
            },
            "type": "scatter"
           }
          ],
          "scatter3d": [
           {
            "line": {
             "colorbar": {
              "outlinewidth": 0,
              "ticks": ""
             }
            },
            "marker": {
             "colorbar": {
              "outlinewidth": 0,
              "ticks": ""
             }
            },
            "type": "scatter3d"
           }
          ],
          "scattercarpet": [
           {
            "marker": {
             "colorbar": {
              "outlinewidth": 0,
              "ticks": ""
             }
            },
            "type": "scattercarpet"
           }
          ],
          "scattergeo": [
           {
            "marker": {
             "colorbar": {
              "outlinewidth": 0,
              "ticks": ""
             }
            },
            "type": "scattergeo"
           }
          ],
          "scattergl": [
           {
            "marker": {
             "colorbar": {
              "outlinewidth": 0,
              "ticks": ""
             }
            },
            "type": "scattergl"
           }
          ],
          "scattermap": [
           {
            "marker": {
             "colorbar": {
              "outlinewidth": 0,
              "ticks": ""
             }
            },
            "type": "scattermap"
           }
          ],
          "scattermapbox": [
           {
            "marker": {
             "colorbar": {
              "outlinewidth": 0,
              "ticks": ""
             }
            },
            "type": "scattermapbox"
           }
          ],
          "scatterpolar": [
           {
            "marker": {
             "colorbar": {
              "outlinewidth": 0,
              "ticks": ""
             }
            },
            "type": "scatterpolar"
           }
          ],
          "scatterpolargl": [
           {
            "marker": {
             "colorbar": {
              "outlinewidth": 0,
              "ticks": ""
             }
            },
            "type": "scatterpolargl"
           }
          ],
          "scatterternary": [
           {
            "marker": {
             "colorbar": {
              "outlinewidth": 0,
              "ticks": ""
             }
            },
            "type": "scatterternary"
           }
          ],
          "surface": [
           {
            "colorbar": {
             "outlinewidth": 0,
             "ticks": ""
            },
            "colorscale": [
             [
              0,
              "#0d0887"
             ],
             [
              0.1111111111111111,
              "#46039f"
             ],
             [
              0.2222222222222222,
              "#7201a8"
             ],
             [
              0.3333333333333333,
              "#9c179e"
             ],
             [
              0.4444444444444444,
              "#bd3786"
             ],
             [
              0.5555555555555556,
              "#d8576b"
             ],
             [
              0.6666666666666666,
              "#ed7953"
             ],
             [
              0.7777777777777778,
              "#fb9f3a"
             ],
             [
              0.8888888888888888,
              "#fdca26"
             ],
             [
              1,
              "#f0f921"
             ]
            ],
            "type": "surface"
           }
          ],
          "table": [
           {
            "cells": {
             "fill": {
              "color": "#EBF0F8"
             },
             "line": {
              "color": "white"
             }
            },
            "header": {
             "fill": {
              "color": "#C8D4E3"
             },
             "line": {
              "color": "white"
             }
            },
            "type": "table"
           }
          ]
         },
         "layout": {
          "annotationdefaults": {
           "arrowcolor": "#2a3f5f",
           "arrowhead": 0,
           "arrowwidth": 1
          },
          "autotypenumbers": "strict",
          "coloraxis": {
           "colorbar": {
            "outlinewidth": 0,
            "ticks": ""
           }
          },
          "colorscale": {
           "diverging": [
            [
             0,
             "#8e0152"
            ],
            [
             0.1,
             "#c51b7d"
            ],
            [
             0.2,
             "#de77ae"
            ],
            [
             0.3,
             "#f1b6da"
            ],
            [
             0.4,
             "#fde0ef"
            ],
            [
             0.5,
             "#f7f7f7"
            ],
            [
             0.6,
             "#e6f5d0"
            ],
            [
             0.7,
             "#b8e186"
            ],
            [
             0.8,
             "#7fbc41"
            ],
            [
             0.9,
             "#4d9221"
            ],
            [
             1,
             "#276419"
            ]
           ],
           "sequential": [
            [
             0,
             "#0d0887"
            ],
            [
             0.1111111111111111,
             "#46039f"
            ],
            [
             0.2222222222222222,
             "#7201a8"
            ],
            [
             0.3333333333333333,
             "#9c179e"
            ],
            [
             0.4444444444444444,
             "#bd3786"
            ],
            [
             0.5555555555555556,
             "#d8576b"
            ],
            [
             0.6666666666666666,
             "#ed7953"
            ],
            [
             0.7777777777777778,
             "#fb9f3a"
            ],
            [
             0.8888888888888888,
             "#fdca26"
            ],
            [
             1,
             "#f0f921"
            ]
           ],
           "sequentialminus": [
            [
             0,
             "#0d0887"
            ],
            [
             0.1111111111111111,
             "#46039f"
            ],
            [
             0.2222222222222222,
             "#7201a8"
            ],
            [
             0.3333333333333333,
             "#9c179e"
            ],
            [
             0.4444444444444444,
             "#bd3786"
            ],
            [
             0.5555555555555556,
             "#d8576b"
            ],
            [
             0.6666666666666666,
             "#ed7953"
            ],
            [
             0.7777777777777778,
             "#fb9f3a"
            ],
            [
             0.8888888888888888,
             "#fdca26"
            ],
            [
             1,
             "#f0f921"
            ]
           ]
          },
          "colorway": [
           "#636efa",
           "#EF553B",
           "#00cc96",
           "#ab63fa",
           "#FFA15A",
           "#19d3f3",
           "#FF6692",
           "#B6E880",
           "#FF97FF",
           "#FECB52"
          ],
          "font": {
           "color": "#2a3f5f"
          },
          "geo": {
           "bgcolor": "white",
           "lakecolor": "white",
           "landcolor": "#E5ECF6",
           "showlakes": true,
           "showland": true,
           "subunitcolor": "white"
          },
          "hoverlabel": {
           "align": "left"
          },
          "hovermode": "closest",
          "mapbox": {
           "style": "light"
          },
          "paper_bgcolor": "white",
          "plot_bgcolor": "#E5ECF6",
          "polar": {
           "angularaxis": {
            "gridcolor": "white",
            "linecolor": "white",
            "ticks": ""
           },
           "bgcolor": "#E5ECF6",
           "radialaxis": {
            "gridcolor": "white",
            "linecolor": "white",
            "ticks": ""
           }
          },
          "scene": {
           "xaxis": {
            "backgroundcolor": "#E5ECF6",
            "gridcolor": "white",
            "gridwidth": 2,
            "linecolor": "white",
            "showbackground": true,
            "ticks": "",
            "zerolinecolor": "white"
           },
           "yaxis": {
            "backgroundcolor": "#E5ECF6",
            "gridcolor": "white",
            "gridwidth": 2,
            "linecolor": "white",
            "showbackground": true,
            "ticks": "",
            "zerolinecolor": "white"
           },
           "zaxis": {
            "backgroundcolor": "#E5ECF6",
            "gridcolor": "white",
            "gridwidth": 2,
            "linecolor": "white",
            "showbackground": true,
            "ticks": "",
            "zerolinecolor": "white"
           }
          },
          "shapedefaults": {
           "line": {
            "color": "#2a3f5f"
           }
          },
          "ternary": {
           "aaxis": {
            "gridcolor": "white",
            "linecolor": "white",
            "ticks": ""
           },
           "baxis": {
            "gridcolor": "white",
            "linecolor": "white",
            "ticks": ""
           },
           "bgcolor": "#E5ECF6",
           "caxis": {
            "gridcolor": "white",
            "linecolor": "white",
            "ticks": ""
           }
          },
          "title": {
           "x": 0.05
          },
          "xaxis": {
           "automargin": true,
           "gridcolor": "white",
           "linecolor": "white",
           "ticks": "",
           "title": {
            "standoff": 15
           },
           "zerolinecolor": "white",
           "zerolinewidth": 2
          },
          "yaxis": {
           "automargin": true,
           "gridcolor": "white",
           "linecolor": "white",
           "ticks": "",
           "title": {
            "standoff": 15
           },
           "zerolinecolor": "white",
           "zerolinewidth": 2
          }
         }
        },
        "title": {
         "text": "Import Trends: USA vs. Rest of World"
        },
        "xaxis": {
         "anchor": "y",
         "domain": [
          0,
          1
         ],
         "matches": "x3",
         "showticklabels": false
        },
        "xaxis2": {
         "anchor": "y2",
         "domain": [
          0,
          1
         ],
         "matches": "x3",
         "showticklabels": false
        },
        "xaxis3": {
         "anchor": "y3",
         "domain": [
          0,
          1
         ],
         "title": {
          "text": "Year"
         }
        },
        "yaxis": {
         "anchor": "x",
         "domain": [
          0.72,
          1
         ],
         "title": {
          "text": "Indexed to 2017"
         }
        },
        "yaxis2": {
         "anchor": "x2",
         "domain": [
          0.36,
          0.6399999999999999
         ],
         "title": {
          "text": "Indexed to 2017"
         }
        },
        "yaxis3": {
         "anchor": "x3",
         "domain": [
          0,
          0.27999999999999997
         ],
         "title": {
          "text": "Indexed to 2017"
         }
        }
       }
      }
     },
     "metadata": {},
     "output_type": "display_data"
    }
   ],
   "source": [
    "USA_CODE = '840'\n",
    "\n",
    "# Prepare the data by classifying products and regions\n",
    "classified_lf = unified_lf.filter(\n",
    "    pl.col(\"year\").is_in([str(y) for y in range(2017, 2021)])\n",
    ").with_columns(\n",
    "    tariff_status=pl.when(pl.col(\"product_code\").is_in(tariffed_products))\n",
    "                   .then(pl.lit(\"Tariffed\"))\n",
    "                   .otherwise(pl.lit(\"Non-Tariffed\")),\n",
    "    region=pl.when(pl.col(\"reporter_country\") == USA_CODE)\n",
    "              .then(pl.lit(\"USA\"))\n",
    "              .otherwise(pl.lit(\"Rest of World\"))\n",
    ")\n",
    "\n",
    "# Group by region, tariff status, and year, and aggregate all required metrics\n",
    "aggregated_df = classified_lf.group_by(\n",
    "    ['region', 'tariff_status', 'year']\n",
    ").agg(\n",
    "    pl.sum(\"value\").alias(\"value\"),\n",
    "    pl.sum(\"quantity\").alias(\"quantity\")\n",
    ").sort('year').with_columns(\n",
    "    # Calculate unit value, handling potential division by zero\n",
    "    unit_value=(pl.col(\"value\") / pl.col(\"quantity\")).fill_null(0).fill_nan(0)\n",
    ")\n",
    "\n",
    "# Calculate indexed values for each metric\n",
    "indexed_df = aggregated_df.with_columns(\n",
    "    value_indexed=pl.col(\"value\") / pl.col(\"value\").filter(pl.col(\"year\") == \"2017\").first().over(['region', 'tariff_status']) * 100,\n",
    "    quantity_indexed=pl.col(\"quantity\") / pl.col(\"quantity\").filter(pl.col(\"year\") == \"2017\").first().over(['region', 'tariff_status']) * 100,\n",
    "    unit_value_indexed=pl.col(\"unit_value\") / pl.col(\"unit_value\").filter(pl.col(\"year\") == \"2017\").first().over(['region', 'tariff_status']) * 100,\n",
    ").collect()\n",
    "\n",
    "# Create a figure with 3 vertically stacked subplots\n",
    "fig = make_subplots(\n",
    "    rows=3, cols=1,\n",
    "    shared_xaxes=True,\n",
    "    vertical_spacing=0.08,\n",
    "    subplot_titles=(\"Indexed Import Value\", \"Indexed Import Quantity\", \"Indexed Import Unit Value\")\n",
    ")\n",
    "\n",
    "# Define plot styles for each category\n",
    "styles = {\n",
    "    ('USA', 'Tariffed'): {'color': 'crimson', 'dash': 'solid'},\n",
    "    ('USA', 'Non-Tariffed'): {'color': 'royalblue', 'dash': 'solid'},\n",
    "    ('Rest of World', 'Tariffed'): {'color': 'crimson', 'dash': 'dot'},\n",
    "    ('Rest of World', 'Non-Tariffed'): {'color': 'royalblue', 'dash': 'dot'},\n",
    "}\n",
    "\n",
    "# Iterate through each data category to add traces to the subplots\n",
    "for (region, status), style in styles.items():\n",
    "    plot_data = indexed_df.filter(\n",
    "        (pl.col(\"region\") == region) & (pl.col(\"tariff_status\") == status)\n",
    "    )\n",
    "    if plot_data.is_empty():\n",
    "        continue\n",
    "    \n",
    "    legend_name = f\"{region} - {status}\"\n",
    "    \n",
    "    # Add traces for each metric to its respective subplot\n",
    "    fig.add_trace(go.Scatter(\n",
    "        x=plot_data[\"year\"], y=plot_data[\"value_indexed\"],\n",
    "        name=legend_name, legendgroup=legend_name,\n",
    "        mode='lines', line=style\n",
    "    ), row=1, col=1)\n",
    "\n",
    "    fig.add_trace(go.Scatter(\n",
    "        x=plot_data[\"year\"], y=plot_data[\"quantity_indexed\"],\n",
    "        name=legend_name, legendgroup=legend_name, showlegend=False,\n",
    "        mode='lines', line=style\n",
    "    ), row=2, col=1)\n",
    "    \n",
    "    fig.add_trace(go.Scatter(\n",
    "        x=plot_data[\"year\"], y=plot_data[\"unit_value_indexed\"],\n",
    "        name=legend_name, legendgroup=legend_name, showlegend=False,\n",
    "        mode='lines', line=style\n",
    "    ), row=3, col=1)\n",
    "\n",
    "# Update layout for a clean, readable chart\n",
    "fig.update_layout(\n",
    "    height=800,\n",
    "    title_text='Import Trends: USA vs. Rest of World',\n",
    "    legend_title_text='Region & Product Type',\n",
    "    hovermode='x unified',\n",
    "    hoversubplots='axis',\n",
    ")\n",
    "fig.update_yaxes(title_text=\"Indexed to 2017\", row=1, col=1)\n",
    "fig.update_yaxes(title_text=\"Indexed to 2017\", row=2, col=1)\n",
    "fig.update_yaxes(title_text=\"Indexed to 2017\", row=3, col=1)\n",
    "fig.update_xaxes(title_text=\"Year\", row=3, col=1)\n",
    "\n",
    "fig.show()"
   ]
  },
  {
   "cell_type": "markdown",
   "metadata": {},
   "source": [
    "## Chinese exports - US vs RoW, Tariffed vs non-Tariffed goods\n",
    "\n",
    "Exports from China to the US and to the RoW - comparing over those goods which were tariffed and those which weren't"
   ]
  },
  {
   "cell_type": "code",
   "execution_count": 7,
   "metadata": {},
   "outputs": [
    {
     "data": {
      "application/vnd.plotly.v1+json": {
       "config": {
        "plotlyServerURL": "https://plot.ly"
       },
       "data": [
        {
         "legendgroup": "USA - Tariffed by US",
         "line": {
          "color": "crimson",
          "dash": "solid"
         },
         "mode": "lines",
         "name": "USA - Tariffed by US",
         "type": "scatter",
         "x": [
          "2017",
          "2018",
          "2019",
          "2020"
         ],
         "xaxis": "x",
         "y": {
          "bdata": "AADIQrH01UItoslCzTfTQg==",
          "dtype": "f4"
         },
         "yaxis": "y"
        },
        {
         "legendgroup": "USA - Tariffed by US",
         "line": {
          "color": "crimson",
          "dash": "solid"
         },
         "mode": "lines",
         "name": "USA - Tariffed by US",
         "showlegend": false,
         "type": "scatter",
         "x": [
          "2017",
          "2018",
          "2019",
          "2020"
         ],
         "xaxis": "x2",
         "y": {
          "bdata": "AADIQs6800ICb8NCWLHoQg==",
          "dtype": "f4"
         },
         "yaxis": "y2"
        },
        {
         "legendgroup": "USA - Tariffed by US",
         "line": {
          "color": "crimson",
          "dash": "solid"
         },
         "mode": "lines",
         "name": "USA - Tariffed by US",
         "showlegend": false,
         "type": "scatter",
         "x": [
          "2017",
          "2018",
          "2019",
          "2020"
         ],
         "xaxis": "x3",
         "y": {
          "bdata": "AADIQmgYykJBWM5C2oq1Qg==",
          "dtype": "f4"
         },
         "yaxis": "y3"
        },
        {
         "legendgroup": "USA - Non-Tariffed by US",
         "line": {
          "color": "royalblue",
          "dash": "solid"
         },
         "mode": "lines",
         "name": "USA - Non-Tariffed by US",
         "type": "scatter",
         "x": [
          "2017",
          "2018",
          "2019",
          "2020"
         ],
         "xaxis": "x",
         "y": {
          "bdata": "AADIQmQx10KTEq1CtlCmQg==",
          "dtype": "f4"
         },
         "yaxis": "y"
        },
        {
         "legendgroup": "USA - Non-Tariffed by US",
         "line": {
          "color": "royalblue",
          "dash": "solid"
         },
         "mode": "lines",
         "name": "USA - Non-Tariffed by US",
         "showlegend": false,
         "type": "scatter",
         "x": [
          "2017",
          "2018",
          "2019",
          "2020"
         ],
         "xaxis": "x2",
         "y": {
          "bdata": "AADIQkeF2UImkK1CBAGpQg==",
          "dtype": "f4"
         },
         "yaxis": "y2"
        },
        {
         "legendgroup": "USA - Non-Tariffed by US",
         "line": {
          "color": "royalblue",
          "dash": "solid"
         },
         "mode": "lines",
         "name": "USA - Non-Tariffed by US",
         "showlegend": false,
         "type": "scatter",
         "x": [
          "2017",
          "2018",
          "2019",
          "2020"
         ],
         "xaxis": "x3",
         "y": {
          "bdata": "AADIQhzcxUJMb8dCdNHEQg==",
          "dtype": "f4"
         },
         "yaxis": "y3"
        },
        {
         "legendgroup": "Rest of World - Tariffed by US",
         "line": {
          "color": "crimson",
          "dash": "dot"
         },
         "mode": "lines",
         "name": "Rest of World - Tariffed by US",
         "type": "scatter",
         "x": [
          "2017",
          "2018",
          "2019",
          "2020"
         ],
         "xaxis": "x",
         "y": {
          "bdata": "AADIQv1g0UKBPtJC1j7cQg==",
          "dtype": "f4"
         },
         "yaxis": "y"
        },
        {
         "legendgroup": "Rest of World - Tariffed by US",
         "line": {
          "color": "crimson",
          "dash": "dot"
         },
         "mode": "lines",
         "name": "Rest of World - Tariffed by US",
         "showlegend": false,
         "type": "scatter",
         "x": [
          "2017",
          "2018",
          "2019",
          "2020"
         ],
         "xaxis": "x2",
         "y": {
          "bdata": "AADIQmgEzEJog9lCo87WQg==",
          "dtype": "f4"
         },
         "yaxis": "y2"
        },
        {
         "legendgroup": "Rest of World - Tariffed by US",
         "line": {
          "color": "crimson",
          "dash": "dot"
         },
         "mode": "lines",
         "name": "Rest of World - Tariffed by US",
         "showlegend": false,
         "type": "scatter",
         "x": [
          "2017",
          "2018",
          "2019",
          "2020"
         ],
         "xaxis": "x3",
         "y": {
          "bdata": "AADIQo5BzULvUMFCOhDNQg==",
          "dtype": "f4"
         },
         "yaxis": "y3"
        },
        {
         "legendgroup": "Rest of World - Non-Tariffed by US",
         "line": {
          "color": "royalblue",
          "dash": "dot"
         },
         "mode": "lines",
         "name": "Rest of World - Non-Tariffed by US",
         "type": "scatter",
         "x": [
          "2017",
          "2018",
          "2019",
          "2020"
         ],
         "xaxis": "x",
         "y": {
          "bdata": "AADIQqK22UIUYd1CbHHbQg==",
          "dtype": "f4"
         },
         "yaxis": "y"
        },
        {
         "legendgroup": "Rest of World - Non-Tariffed by US",
         "line": {
          "color": "royalblue",
          "dash": "dot"
         },
         "mode": "lines",
         "name": "Rest of World - Non-Tariffed by US",
         "showlegend": false,
         "type": "scatter",
         "x": [
          "2017",
          "2018",
          "2019",
          "2020"
         ],
         "xaxis": "x2",
         "y": {
          "bdata": "AADIQugMm0Jm3cNCUPygQg==",
          "dtype": "f4"
         },
         "yaxis": "y2"
        },
        {
         "legendgroup": "Rest of World - Non-Tariffed by US",
         "line": {
          "color": "royalblue",
          "dash": "dot"
         },
         "mode": "lines",
         "name": "Rest of World - Non-Tariffed by US",
         "showlegend": false,
         "type": "scatter",
         "x": [
          "2017",
          "2018",
          "2019",
          "2020"
         ],
         "xaxis": "x3",
         "y": {
          "bdata": "AADIQiJqDEOTDeJC708IQw==",
          "dtype": "f4"
         },
         "yaxis": "y3"
        }
       ],
       "layout": {
        "annotations": [
         {
          "font": {
           "size": 16
          },
          "showarrow": false,
          "text": "Indexed Export Value",
          "x": 0.5,
          "xanchor": "center",
          "xref": "paper",
          "y": 1,
          "yanchor": "bottom",
          "yref": "paper"
         },
         {
          "font": {
           "size": 16
          },
          "showarrow": false,
          "text": "Indexed Export Quantity",
          "x": 0.5,
          "xanchor": "center",
          "xref": "paper",
          "y": 0.6399999999999999,
          "yanchor": "bottom",
          "yref": "paper"
         },
         {
          "font": {
           "size": 16
          },
          "showarrow": false,
          "text": "Indexed Export Unit Value",
          "x": 0.5,
          "xanchor": "center",
          "xref": "paper",
          "y": 0.27999999999999997,
          "yanchor": "bottom",
          "yref": "paper"
         }
        ],
        "height": 800,
        "hovermode": "x unified",
        "legend": {
         "title": {
          "text": "Destination & Product Type"
         }
        },
        "template": {
         "data": {
          "bar": [
           {
            "error_x": {
             "color": "#2a3f5f"
            },
            "error_y": {
             "color": "#2a3f5f"
            },
            "marker": {
             "line": {
              "color": "#E5ECF6",
              "width": 0.5
             },
             "pattern": {
              "fillmode": "overlay",
              "size": 10,
              "solidity": 0.2
             }
            },
            "type": "bar"
           }
          ],
          "barpolar": [
           {
            "marker": {
             "line": {
              "color": "#E5ECF6",
              "width": 0.5
             },
             "pattern": {
              "fillmode": "overlay",
              "size": 10,
              "solidity": 0.2
             }
            },
            "type": "barpolar"
           }
          ],
          "carpet": [
           {
            "aaxis": {
             "endlinecolor": "#2a3f5f",
             "gridcolor": "white",
             "linecolor": "white",
             "minorgridcolor": "white",
             "startlinecolor": "#2a3f5f"
            },
            "baxis": {
             "endlinecolor": "#2a3f5f",
             "gridcolor": "white",
             "linecolor": "white",
             "minorgridcolor": "white",
             "startlinecolor": "#2a3f5f"
            },
            "type": "carpet"
           }
          ],
          "choropleth": [
           {
            "colorbar": {
             "outlinewidth": 0,
             "ticks": ""
            },
            "type": "choropleth"
           }
          ],
          "contour": [
           {
            "colorbar": {
             "outlinewidth": 0,
             "ticks": ""
            },
            "colorscale": [
             [
              0,
              "#0d0887"
             ],
             [
              0.1111111111111111,
              "#46039f"
             ],
             [
              0.2222222222222222,
              "#7201a8"
             ],
             [
              0.3333333333333333,
              "#9c179e"
             ],
             [
              0.4444444444444444,
              "#bd3786"
             ],
             [
              0.5555555555555556,
              "#d8576b"
             ],
             [
              0.6666666666666666,
              "#ed7953"
             ],
             [
              0.7777777777777778,
              "#fb9f3a"
             ],
             [
              0.8888888888888888,
              "#fdca26"
             ],
             [
              1,
              "#f0f921"
             ]
            ],
            "type": "contour"
           }
          ],
          "contourcarpet": [
           {
            "colorbar": {
             "outlinewidth": 0,
             "ticks": ""
            },
            "type": "contourcarpet"
           }
          ],
          "heatmap": [
           {
            "colorbar": {
             "outlinewidth": 0,
             "ticks": ""
            },
            "colorscale": [
             [
              0,
              "#0d0887"
             ],
             [
              0.1111111111111111,
              "#46039f"
             ],
             [
              0.2222222222222222,
              "#7201a8"
             ],
             [
              0.3333333333333333,
              "#9c179e"
             ],
             [
              0.4444444444444444,
              "#bd3786"
             ],
             [
              0.5555555555555556,
              "#d8576b"
             ],
             [
              0.6666666666666666,
              "#ed7953"
             ],
             [
              0.7777777777777778,
              "#fb9f3a"
             ],
             [
              0.8888888888888888,
              "#fdca26"
             ],
             [
              1,
              "#f0f921"
             ]
            ],
            "type": "heatmap"
           }
          ],
          "histogram": [
           {
            "marker": {
             "pattern": {
              "fillmode": "overlay",
              "size": 10,
              "solidity": 0.2
             }
            },
            "type": "histogram"
           }
          ],
          "histogram2d": [
           {
            "colorbar": {
             "outlinewidth": 0,
             "ticks": ""
            },
            "colorscale": [
             [
              0,
              "#0d0887"
             ],
             [
              0.1111111111111111,
              "#46039f"
             ],
             [
              0.2222222222222222,
              "#7201a8"
             ],
             [
              0.3333333333333333,
              "#9c179e"
             ],
             [
              0.4444444444444444,
              "#bd3786"
             ],
             [
              0.5555555555555556,
              "#d8576b"
             ],
             [
              0.6666666666666666,
              "#ed7953"
             ],
             [
              0.7777777777777778,
              "#fb9f3a"
             ],
             [
              0.8888888888888888,
              "#fdca26"
             ],
             [
              1,
              "#f0f921"
             ]
            ],
            "type": "histogram2d"
           }
          ],
          "histogram2dcontour": [
           {
            "colorbar": {
             "outlinewidth": 0,
             "ticks": ""
            },
            "colorscale": [
             [
              0,
              "#0d0887"
             ],
             [
              0.1111111111111111,
              "#46039f"
             ],
             [
              0.2222222222222222,
              "#7201a8"
             ],
             [
              0.3333333333333333,
              "#9c179e"
             ],
             [
              0.4444444444444444,
              "#bd3786"
             ],
             [
              0.5555555555555556,
              "#d8576b"
             ],
             [
              0.6666666666666666,
              "#ed7953"
             ],
             [
              0.7777777777777778,
              "#fb9f3a"
             ],
             [
              0.8888888888888888,
              "#fdca26"
             ],
             [
              1,
              "#f0f921"
             ]
            ],
            "type": "histogram2dcontour"
           }
          ],
          "mesh3d": [
           {
            "colorbar": {
             "outlinewidth": 0,
             "ticks": ""
            },
            "type": "mesh3d"
           }
          ],
          "parcoords": [
           {
            "line": {
             "colorbar": {
              "outlinewidth": 0,
              "ticks": ""
             }
            },
            "type": "parcoords"
           }
          ],
          "pie": [
           {
            "automargin": true,
            "type": "pie"
           }
          ],
          "scatter": [
           {
            "fillpattern": {
             "fillmode": "overlay",
             "size": 10,
             "solidity": 0.2
            },
            "type": "scatter"
           }
          ],
          "scatter3d": [
           {
            "line": {
             "colorbar": {
              "outlinewidth": 0,
              "ticks": ""
             }
            },
            "marker": {
             "colorbar": {
              "outlinewidth": 0,
              "ticks": ""
             }
            },
            "type": "scatter3d"
           }
          ],
          "scattercarpet": [
           {
            "marker": {
             "colorbar": {
              "outlinewidth": 0,
              "ticks": ""
             }
            },
            "type": "scattercarpet"
           }
          ],
          "scattergeo": [
           {
            "marker": {
             "colorbar": {
              "outlinewidth": 0,
              "ticks": ""
             }
            },
            "type": "scattergeo"
           }
          ],
          "scattergl": [
           {
            "marker": {
             "colorbar": {
              "outlinewidth": 0,
              "ticks": ""
             }
            },
            "type": "scattergl"
           }
          ],
          "scattermap": [
           {
            "marker": {
             "colorbar": {
              "outlinewidth": 0,
              "ticks": ""
             }
            },
            "type": "scattermap"
           }
          ],
          "scattermapbox": [
           {
            "marker": {
             "colorbar": {
              "outlinewidth": 0,
              "ticks": ""
             }
            },
            "type": "scattermapbox"
           }
          ],
          "scatterpolar": [
           {
            "marker": {
             "colorbar": {
              "outlinewidth": 0,
              "ticks": ""
             }
            },
            "type": "scatterpolar"
           }
          ],
          "scatterpolargl": [
           {
            "marker": {
             "colorbar": {
              "outlinewidth": 0,
              "ticks": ""
             }
            },
            "type": "scatterpolargl"
           }
          ],
          "scatterternary": [
           {
            "marker": {
             "colorbar": {
              "outlinewidth": 0,
              "ticks": ""
             }
            },
            "type": "scatterternary"
           }
          ],
          "surface": [
           {
            "colorbar": {
             "outlinewidth": 0,
             "ticks": ""
            },
            "colorscale": [
             [
              0,
              "#0d0887"
             ],
             [
              0.1111111111111111,
              "#46039f"
             ],
             [
              0.2222222222222222,
              "#7201a8"
             ],
             [
              0.3333333333333333,
              "#9c179e"
             ],
             [
              0.4444444444444444,
              "#bd3786"
             ],
             [
              0.5555555555555556,
              "#d8576b"
             ],
             [
              0.6666666666666666,
              "#ed7953"
             ],
             [
              0.7777777777777778,
              "#fb9f3a"
             ],
             [
              0.8888888888888888,
              "#fdca26"
             ],
             [
              1,
              "#f0f921"
             ]
            ],
            "type": "surface"
           }
          ],
          "table": [
           {
            "cells": {
             "fill": {
              "color": "#EBF0F8"
             },
             "line": {
              "color": "white"
             }
            },
            "header": {
             "fill": {
              "color": "#C8D4E3"
             },
             "line": {
              "color": "white"
             }
            },
            "type": "table"
           }
          ]
         },
         "layout": {
          "annotationdefaults": {
           "arrowcolor": "#2a3f5f",
           "arrowhead": 0,
           "arrowwidth": 1
          },
          "autotypenumbers": "strict",
          "coloraxis": {
           "colorbar": {
            "outlinewidth": 0,
            "ticks": ""
           }
          },
          "colorscale": {
           "diverging": [
            [
             0,
             "#8e0152"
            ],
            [
             0.1,
             "#c51b7d"
            ],
            [
             0.2,
             "#de77ae"
            ],
            [
             0.3,
             "#f1b6da"
            ],
            [
             0.4,
             "#fde0ef"
            ],
            [
             0.5,
             "#f7f7f7"
            ],
            [
             0.6,
             "#e6f5d0"
            ],
            [
             0.7,
             "#b8e186"
            ],
            [
             0.8,
             "#7fbc41"
            ],
            [
             0.9,
             "#4d9221"
            ],
            [
             1,
             "#276419"
            ]
           ],
           "sequential": [
            [
             0,
             "#0d0887"
            ],
            [
             0.1111111111111111,
             "#46039f"
            ],
            [
             0.2222222222222222,
             "#7201a8"
            ],
            [
             0.3333333333333333,
             "#9c179e"
            ],
            [
             0.4444444444444444,
             "#bd3786"
            ],
            [
             0.5555555555555556,
             "#d8576b"
            ],
            [
             0.6666666666666666,
             "#ed7953"
            ],
            [
             0.7777777777777778,
             "#fb9f3a"
            ],
            [
             0.8888888888888888,
             "#fdca26"
            ],
            [
             1,
             "#f0f921"
            ]
           ],
           "sequentialminus": [
            [
             0,
             "#0d0887"
            ],
            [
             0.1111111111111111,
             "#46039f"
            ],
            [
             0.2222222222222222,
             "#7201a8"
            ],
            [
             0.3333333333333333,
             "#9c179e"
            ],
            [
             0.4444444444444444,
             "#bd3786"
            ],
            [
             0.5555555555555556,
             "#d8576b"
            ],
            [
             0.6666666666666666,
             "#ed7953"
            ],
            [
             0.7777777777777778,
             "#fb9f3a"
            ],
            [
             0.8888888888888888,
             "#fdca26"
            ],
            [
             1,
             "#f0f921"
            ]
           ]
          },
          "colorway": [
           "#636efa",
           "#EF553B",
           "#00cc96",
           "#ab63fa",
           "#FFA15A",
           "#19d3f3",
           "#FF6692",
           "#B6E880",
           "#FF97FF",
           "#FECB52"
          ],
          "font": {
           "color": "#2a3f5f"
          },
          "geo": {
           "bgcolor": "white",
           "lakecolor": "white",
           "landcolor": "#E5ECF6",
           "showlakes": true,
           "showland": true,
           "subunitcolor": "white"
          },
          "hoverlabel": {
           "align": "left"
          },
          "hovermode": "closest",
          "mapbox": {
           "style": "light"
          },
          "paper_bgcolor": "white",
          "plot_bgcolor": "#E5ECF6",
          "polar": {
           "angularaxis": {
            "gridcolor": "white",
            "linecolor": "white",
            "ticks": ""
           },
           "bgcolor": "#E5ECF6",
           "radialaxis": {
            "gridcolor": "white",
            "linecolor": "white",
            "ticks": ""
           }
          },
          "scene": {
           "xaxis": {
            "backgroundcolor": "#E5ECF6",
            "gridcolor": "white",
            "gridwidth": 2,
            "linecolor": "white",
            "showbackground": true,
            "ticks": "",
            "zerolinecolor": "white"
           },
           "yaxis": {
            "backgroundcolor": "#E5ECF6",
            "gridcolor": "white",
            "gridwidth": 2,
            "linecolor": "white",
            "showbackground": true,
            "ticks": "",
            "zerolinecolor": "white"
           },
           "zaxis": {
            "backgroundcolor": "#E5ECF6",
            "gridcolor": "white",
            "gridwidth": 2,
            "linecolor": "white",
            "showbackground": true,
            "ticks": "",
            "zerolinecolor": "white"
           }
          },
          "shapedefaults": {
           "line": {
            "color": "#2a3f5f"
           }
          },
          "ternary": {
           "aaxis": {
            "gridcolor": "white",
            "linecolor": "white",
            "ticks": ""
           },
           "baxis": {
            "gridcolor": "white",
            "linecolor": "white",
            "ticks": ""
           },
           "bgcolor": "#E5ECF6",
           "caxis": {
            "gridcolor": "white",
            "linecolor": "white",
            "ticks": ""
           }
          },
          "title": {
           "x": 0.05
          },
          "xaxis": {
           "automargin": true,
           "gridcolor": "white",
           "linecolor": "white",
           "ticks": "",
           "title": {
            "standoff": 15
           },
           "zerolinecolor": "white",
           "zerolinewidth": 2
          },
          "yaxis": {
           "automargin": true,
           "gridcolor": "white",
           "linecolor": "white",
           "ticks": "",
           "title": {
            "standoff": 15
           },
           "zerolinecolor": "white",
           "zerolinewidth": 2
          }
         }
        },
        "title": {
         "text": "Chinese Export Trends: US vs. Rest of World (2017-2023)"
        },
        "xaxis": {
         "anchor": "y",
         "domain": [
          0,
          1
         ],
         "matches": "x3",
         "showticklabels": false
        },
        "xaxis2": {
         "anchor": "y2",
         "domain": [
          0,
          1
         ],
         "matches": "x3",
         "showticklabels": false
        },
        "xaxis3": {
         "anchor": "y3",
         "domain": [
          0,
          1
         ],
         "title": {
          "text": "Year"
         }
        },
        "yaxis": {
         "anchor": "x",
         "domain": [
          0.72,
          1
         ],
         "title": {
          "text": "Indexed to 2017"
         }
        },
        "yaxis2": {
         "anchor": "x2",
         "domain": [
          0.36,
          0.6399999999999999
         ],
         "title": {
          "text": "Indexed to 2017"
         }
        },
        "yaxis3": {
         "anchor": "x3",
         "domain": [
          0,
          0.27999999999999997
         ],
         "title": {
          "text": "Indexed to 2017"
         }
        }
       }
      }
     },
     "metadata": {},
     "output_type": "display_data"
    }
   ],
   "source": [
    "USA_CODE = \"840\"\n",
    "CHINA_CODE = \"156\"\n",
    "\n",
    "# Prepare data: filter for Chinese exports and classify destinations/products\n",
    "chinese_exports_lf = unified_lf.filter(\n",
    "    (pl.col(\"reporter_country\") == CHINA_CODE) &\n",
    "    (pl.col(\"year\").is_in([str(y) for y in range(2017, 2021)]))\n",
    ").with_columns(\n",
    "    tariff_status=pl.when(pl.col(\"product_code\").is_in(tariffed_products))\n",
    "                   .then(pl.lit(\"Tariffed by US\"))\n",
    "                   .otherwise(pl.lit(\"Non-Tariffed by US\")),\n",
    "    destination=pl.when(pl.col(\"partner_country\") == USA_CODE)\n",
    "                 .then(pl.lit(\"USA\"))\n",
    "                 .otherwise(pl.lit(\"Rest of World\"))\n",
    ")\n",
    "\n",
    "# Group by destination, tariff status, and year, and aggregate all required metrics\n",
    "aggregated_df = chinese_exports_lf.group_by(\n",
    "    ['destination', 'tariff_status', 'year']\n",
    ").agg(\n",
    "    pl.sum(\"value\").alias(\"value\"),\n",
    "    pl.sum(\"quantity\").alias(\"quantity\")\n",
    ").sort('year').with_columns(\n",
    "    # Calculate unit value, handling potential division by zero\n",
    "    unit_value=(pl.col(\"value\") / pl.col(\"quantity\")).fill_null(0).fill_nan(0)\n",
    ")\n",
    "\n",
    "# Calculate indexed values for each metric\n",
    "indexed_df = aggregated_df.with_columns(\n",
    "    value_indexed=pl.col(\"value\") / pl.col(\"value\").filter(pl.col(\"year\") == \"2017\").first().over(['destination', 'tariff_status']) * 100,\n",
    "    quantity_indexed=pl.col(\"quantity\") / pl.col(\"quantity\").filter(pl.col(\"year\") == \"2017\").first().over(['destination', 'tariff_status']) * 100,\n",
    "    unit_value_indexed=pl.col(\"unit_value\") / pl.col(\"unit_value\").filter(pl.col(\"year\") == \"2017\").first().over(['destination', 'tariff_status']) * 100,\n",
    ").collect()\n",
    "\n",
    "# Create a figure with 3 vertically stacked subplots\n",
    "fig = make_subplots(\n",
    "    rows=3, cols=1,\n",
    "    shared_xaxes=True,\n",
    "    vertical_spacing=0.08,\n",
    "    subplot_titles=(\"Indexed Export Value\", \"Indexed Export Quantity\", \"Indexed Export Unit Value\")\n",
    ")\n",
    "\n",
    "# Define plot styles for each category\n",
    "styles = {\n",
    "    ('USA', 'Tariffed by US'): {'color': 'crimson', 'dash': 'solid'},\n",
    "    ('USA', 'Non-Tariffed by US'): {'color': 'royalblue', 'dash': 'solid'},\n",
    "    ('Rest of World', 'Tariffed by US'): {'color': 'crimson', 'dash': 'dot'},\n",
    "    ('Rest of World', 'Non-Tariffed by US'): {'color': 'royalblue', 'dash': 'dot'},\n",
    "}\n",
    "\n",
    "# Iterate through each data category to add traces to the subplots\n",
    "for (destination, status), style in styles.items():\n",
    "    plot_data = indexed_df.filter(\n",
    "        (pl.col(\"destination\") == destination) & (pl.col(\"tariff_status\") == status)\n",
    "    )\n",
    "    if plot_data.is_empty():\n",
    "        continue\n",
    "    \n",
    "    legend_name = f\"{destination} - {status}\"\n",
    "    \n",
    "    # Add traces for each metric to its respective subplot\n",
    "    fig.add_trace(go.Scatter(\n",
    "        x=plot_data[\"year\"], y=plot_data[\"value_indexed\"],\n",
    "        name=legend_name, legendgroup=legend_name,\n",
    "        mode='lines', line=style\n",
    "    ), row=1, col=1)\n",
    "\n",
    "    fig.add_trace(go.Scatter(\n",
    "        x=plot_data[\"year\"], y=plot_data[\"quantity_indexed\"],\n",
    "        name=legend_name, legendgroup=legend_name, showlegend=False,\n",
    "        mode='lines', line=style\n",
    "    ), row=2, col=1)\n",
    "    \n",
    "    fig.add_trace(go.Scatter(\n",
    "        x=plot_data[\"year\"], y=plot_data[\"unit_value_indexed\"],\n",
    "        name=legend_name, legendgroup=legend_name, showlegend=False,\n",
    "        mode='lines', line=style\n",
    "    ), row=3, col=1)\n",
    "\n",
    "# Update layout for a clean, readable chart\n",
    "fig.update_layout(\n",
    "    height=800,\n",
    "    title_text='Chinese Export Trends: US vs. Rest of World (2017-2023)',\n",
    "    legend_title_text='Destination & Product Type',\n",
    "    hovermode='x unified'\n",
    ")\n",
    "fig.update_yaxes(title_text=\"Indexed to 2017\", row=1, col=1)\n",
    "fig.update_yaxes(title_text=\"Indexed to 2017\", row=2, col=1)\n",
    "fig.update_yaxes(title_text=\"Indexed to 2017\", row=3, col=1)\n",
    "fig.update_xaxes(title_text=\"Year\", row=3, col=1)\n",
    "\n",
    "fig.show()"
   ]
  },
  {
   "cell_type": "markdown",
   "metadata": {},
   "source": [
    "## Chinese+RelevantCountries Exports, US vs RoW\n",
    "\n",
    "Adding a basket of countries which we might imagine diversion to go through: \n",
    "\n",
    "- China\n",
    "- Vietnam\n",
    "- Mexico\n",
    "- Taiwan\n",
    "- South Korea\n",
    "- Malaysia\n",
    "- Thailand\n",
    "- Cambodia \n"
   ]
  },
  {
   "cell_type": "code",
   "execution_count": 8,
   "metadata": {},
   "outputs": [
    {
     "data": {
      "application/vnd.plotly.v1+json": {
       "config": {
        "plotlyServerURL": "https://plot.ly"
       },
       "data": [
        {
         "legendgroup": "USA - Tariffed by US",
         "line": {
          "color": "crimson",
          "dash": "solid"
         },
         "mode": "lines",
         "name": "USA - Tariffed by US",
         "type": "scatter",
         "x": [
          "2017",
          "2018",
          "2019",
          "2020",
          "2021",
          "2022"
         ],
         "xaxis": "x",
         "y": {
          "bdata": "AADIQrHY00IAVNRCV/jbQkbPAkPVyw9D",
          "dtype": "f4"
         },
         "yaxis": "y"
        },
        {
         "legendgroup": "USA - Tariffed by US",
         "line": {
          "color": "crimson",
          "dash": "solid"
         },
         "mode": "lines",
         "name": "USA - Tariffed by US",
         "showlegend": false,
         "type": "scatter",
         "x": [
          "2017",
          "2018",
          "2019",
          "2020",
          "2021",
          "2022"
         ],
         "xaxis": "x2",
         "y": {
          "bdata": "AADIQptSy0JPGM1CZUvkQq/2AUMi3AND",
          "dtype": "f4"
         },
         "yaxis": "y2"
        },
        {
         "legendgroup": "USA - Tariffed by US",
         "line": {
          "color": "crimson",
          "dash": "solid"
         },
         "mode": "lines",
         "name": "USA - Tariffed by US",
         "showlegend": false,
         "type": "scatter",
         "x": [
          "2017",
          "2018",
          "2019",
          "2020",
          "2021",
          "2022"
         ],
         "xaxis": "x3",
         "y": {
          "bdata": "AADIQnBi0EKyDc9CErXAQlBNyULGGtpC",
          "dtype": "f4"
         },
         "yaxis": "y3"
        },
        {
         "legendgroup": "USA - Non-Tariffed by US",
         "line": {
          "color": "royalblue",
          "dash": "solid"
         },
         "mode": "lines",
         "name": "USA - Non-Tariffed by US",
         "type": "scatter",
         "x": [
          "2017",
          "2018",
          "2019",
          "2020",
          "2021",
          "2022"
         ],
         "xaxis": "x",
         "y": {
          "bdata": "AADIQkE610JEc8xCwDPHQpos6UIoZAdD",
          "dtype": "f4"
         },
         "yaxis": "y"
        },
        {
         "legendgroup": "USA - Non-Tariffed by US",
         "line": {
          "color": "royalblue",
          "dash": "solid"
         },
         "mode": "lines",
         "name": "USA - Non-Tariffed by US",
         "showlegend": false,
         "type": "scatter",
         "x": [
          "2017",
          "2018",
          "2019",
          "2020",
          "2021",
          "2022"
         ],
         "xaxis": "x2",
         "y": {
          "bdata": "AADIQvR21UIW3NBCI0oCQ8D88kI6fAFD",
          "dtype": "f4"
         },
         "yaxis": "y2"
        },
        {
         "legendgroup": "USA - Non-Tariffed by US",
         "line": {
          "color": "royalblue",
          "dash": "solid"
         },
         "mode": "lines",
         "name": "USA - Non-Tariffed by US",
         "showlegend": false,
         "type": "scatter",
         "x": [
          "2017",
          "2018",
          "2019",
          "2020",
          "2021",
          "2022"
         ],
         "xaxis": "x3",
         "y": {
          "bdata": "AADIQtWmyUISx8NCUOSYQkrsv0JMH9FC",
          "dtype": "f4"
         },
         "yaxis": "y3"
        },
        {
         "legendgroup": "Rest of World - Tariffed by US",
         "line": {
          "color": "crimson",
          "dash": "dot"
         },
         "mode": "lines",
         "name": "Rest of World - Tariffed by US",
         "type": "scatter",
         "x": [
          "2017",
          "2018",
          "2019",
          "2020",
          "2021",
          "2022"
         ],
         "xaxis": "x",
         "y": {
          "bdata": "AADIQnyv0UIO8M9CgHrRQodX7kJw5vxC",
          "dtype": "f4"
         },
         "yaxis": "y"
        },
        {
         "legendgroup": "Rest of World - Tariffed by US",
         "line": {
          "color": "crimson",
          "dash": "dot"
         },
         "mode": "lines",
         "name": "Rest of World - Tariffed by US",
         "showlegend": false,
         "type": "scatter",
         "x": [
          "2017",
          "2018",
          "2019",
          "2020",
          "2021",
          "2022"
         ],
         "xaxis": "x2",
         "y": {
          "bdata": "AADIQkosx0KS+dBCepXKQtOP4kLCr+JC",
          "dtype": "f4"
         },
         "yaxis": "y2"
        },
        {
         "legendgroup": "Rest of World - Tariffed by US",
         "line": {
          "color": "crimson",
          "dash": "dot"
         },
         "mode": "lines",
         "name": "Rest of World - Tariffed by US",
         "showlegend": false,
         "type": "scatter",
         "x": [
          "2017",
          "2018",
          "2019",
          "2020",
          "2021",
          "2022"
         ],
         "xaxis": "x3",
         "y": {
          "bdata": "AADIQl6O0kLkAcdChM7OQidm0kKrIN9C",
          "dtype": "f4"
         },
         "yaxis": "y3"
        },
        {
         "legendgroup": "Rest of World - Non-Tariffed by US",
         "line": {
          "color": "royalblue",
          "dash": "dot"
         },
         "mode": "lines",
         "name": "Rest of World - Non-Tariffed by US",
         "type": "scatter",
         "x": [
          "2017",
          "2018",
          "2019",
          "2020",
          "2021",
          "2022"
         ],
         "xaxis": "x",
         "y": {
          "bdata": "AADIQnOq2EI1y9dCY1jVQl4JBUOJ4xJD",
          "dtype": "f4"
         },
         "yaxis": "y"
        },
        {
         "legendgroup": "Rest of World - Non-Tariffed by US",
         "line": {
          "color": "royalblue",
          "dash": "dot"
         },
         "mode": "lines",
         "name": "Rest of World - Non-Tariffed by US",
         "showlegend": false,
         "type": "scatter",
         "x": [
          "2017",
          "2018",
          "2019",
          "2020",
          "2021",
          "2022"
         ],
         "xaxis": "x2",
         "y": {
          "bdata": "AADIQg8zskIkWs5Ch/C2QhpAvEKgzr1C",
          "dtype": "f4"
         },
         "yaxis": "y2"
        },
        {
         "legendgroup": "Rest of World - Non-Tariffed by US",
         "line": {
          "color": "royalblue",
          "dash": "dot"
         },
         "mode": "lines",
         "name": "Rest of World - Non-Tariffed by US",
         "showlegend": false,
         "type": "scatter",
         "x": [
          "2017",
          "2018",
          "2019",
          "2020",
          "2021",
          "2022"
         ],
         "xaxis": "x3",
         "y": {
          "bdata": "AADIQhos80KoJtFCwj3pQg1XDUPlxhpD",
          "dtype": "f4"
         },
         "yaxis": "y3"
        }
       ],
       "layout": {
        "annotations": [
         {
          "font": {
           "size": 16
          },
          "showarrow": false,
          "text": "Indexed Export Value",
          "x": 0.5,
          "xanchor": "center",
          "xref": "paper",
          "y": 1,
          "yanchor": "bottom",
          "yref": "paper"
         },
         {
          "font": {
           "size": 16
          },
          "showarrow": false,
          "text": "Indexed Export Quantity",
          "x": 0.5,
          "xanchor": "center",
          "xref": "paper",
          "y": 0.6399999999999999,
          "yanchor": "bottom",
          "yref": "paper"
         },
         {
          "font": {
           "size": 16
          },
          "showarrow": false,
          "text": "Indexed Export Unit Value",
          "x": 0.5,
          "xanchor": "center",
          "xref": "paper",
          "y": 0.27999999999999997,
          "yanchor": "bottom",
          "yref": "paper"
         }
        ],
        "height": 800,
        "hovermode": "x unified",
        "legend": {
         "title": {
          "text": "Destination & Product Type"
         }
        },
        "template": {
         "data": {
          "bar": [
           {
            "error_x": {
             "color": "#2a3f5f"
            },
            "error_y": {
             "color": "#2a3f5f"
            },
            "marker": {
             "line": {
              "color": "#E5ECF6",
              "width": 0.5
             },
             "pattern": {
              "fillmode": "overlay",
              "size": 10,
              "solidity": 0.2
             }
            },
            "type": "bar"
           }
          ],
          "barpolar": [
           {
            "marker": {
             "line": {
              "color": "#E5ECF6",
              "width": 0.5
             },
             "pattern": {
              "fillmode": "overlay",
              "size": 10,
              "solidity": 0.2
             }
            },
            "type": "barpolar"
           }
          ],
          "carpet": [
           {
            "aaxis": {
             "endlinecolor": "#2a3f5f",
             "gridcolor": "white",
             "linecolor": "white",
             "minorgridcolor": "white",
             "startlinecolor": "#2a3f5f"
            },
            "baxis": {
             "endlinecolor": "#2a3f5f",
             "gridcolor": "white",
             "linecolor": "white",
             "minorgridcolor": "white",
             "startlinecolor": "#2a3f5f"
            },
            "type": "carpet"
           }
          ],
          "choropleth": [
           {
            "colorbar": {
             "outlinewidth": 0,
             "ticks": ""
            },
            "type": "choropleth"
           }
          ],
          "contour": [
           {
            "colorbar": {
             "outlinewidth": 0,
             "ticks": ""
            },
            "colorscale": [
             [
              0,
              "#0d0887"
             ],
             [
              0.1111111111111111,
              "#46039f"
             ],
             [
              0.2222222222222222,
              "#7201a8"
             ],
             [
              0.3333333333333333,
              "#9c179e"
             ],
             [
              0.4444444444444444,
              "#bd3786"
             ],
             [
              0.5555555555555556,
              "#d8576b"
             ],
             [
              0.6666666666666666,
              "#ed7953"
             ],
             [
              0.7777777777777778,
              "#fb9f3a"
             ],
             [
              0.8888888888888888,
              "#fdca26"
             ],
             [
              1,
              "#f0f921"
             ]
            ],
            "type": "contour"
           }
          ],
          "contourcarpet": [
           {
            "colorbar": {
             "outlinewidth": 0,
             "ticks": ""
            },
            "type": "contourcarpet"
           }
          ],
          "heatmap": [
           {
            "colorbar": {
             "outlinewidth": 0,
             "ticks": ""
            },
            "colorscale": [
             [
              0,
              "#0d0887"
             ],
             [
              0.1111111111111111,
              "#46039f"
             ],
             [
              0.2222222222222222,
              "#7201a8"
             ],
             [
              0.3333333333333333,
              "#9c179e"
             ],
             [
              0.4444444444444444,
              "#bd3786"
             ],
             [
              0.5555555555555556,
              "#d8576b"
             ],
             [
              0.6666666666666666,
              "#ed7953"
             ],
             [
              0.7777777777777778,
              "#fb9f3a"
             ],
             [
              0.8888888888888888,
              "#fdca26"
             ],
             [
              1,
              "#f0f921"
             ]
            ],
            "type": "heatmap"
           }
          ],
          "histogram": [
           {
            "marker": {
             "pattern": {
              "fillmode": "overlay",
              "size": 10,
              "solidity": 0.2
             }
            },
            "type": "histogram"
           }
          ],
          "histogram2d": [
           {
            "colorbar": {
             "outlinewidth": 0,
             "ticks": ""
            },
            "colorscale": [
             [
              0,
              "#0d0887"
             ],
             [
              0.1111111111111111,
              "#46039f"
             ],
             [
              0.2222222222222222,
              "#7201a8"
             ],
             [
              0.3333333333333333,
              "#9c179e"
             ],
             [
              0.4444444444444444,
              "#bd3786"
             ],
             [
              0.5555555555555556,
              "#d8576b"
             ],
             [
              0.6666666666666666,
              "#ed7953"
             ],
             [
              0.7777777777777778,
              "#fb9f3a"
             ],
             [
              0.8888888888888888,
              "#fdca26"
             ],
             [
              1,
              "#f0f921"
             ]
            ],
            "type": "histogram2d"
           }
          ],
          "histogram2dcontour": [
           {
            "colorbar": {
             "outlinewidth": 0,
             "ticks": ""
            },
            "colorscale": [
             [
              0,
              "#0d0887"
             ],
             [
              0.1111111111111111,
              "#46039f"
             ],
             [
              0.2222222222222222,
              "#7201a8"
             ],
             [
              0.3333333333333333,
              "#9c179e"
             ],
             [
              0.4444444444444444,
              "#bd3786"
             ],
             [
              0.5555555555555556,
              "#d8576b"
             ],
             [
              0.6666666666666666,
              "#ed7953"
             ],
             [
              0.7777777777777778,
              "#fb9f3a"
             ],
             [
              0.8888888888888888,
              "#fdca26"
             ],
             [
              1,
              "#f0f921"
             ]
            ],
            "type": "histogram2dcontour"
           }
          ],
          "mesh3d": [
           {
            "colorbar": {
             "outlinewidth": 0,
             "ticks": ""
            },
            "type": "mesh3d"
           }
          ],
          "parcoords": [
           {
            "line": {
             "colorbar": {
              "outlinewidth": 0,
              "ticks": ""
             }
            },
            "type": "parcoords"
           }
          ],
          "pie": [
           {
            "automargin": true,
            "type": "pie"
           }
          ],
          "scatter": [
           {
            "fillpattern": {
             "fillmode": "overlay",
             "size": 10,
             "solidity": 0.2
            },
            "type": "scatter"
           }
          ],
          "scatter3d": [
           {
            "line": {
             "colorbar": {
              "outlinewidth": 0,
              "ticks": ""
             }
            },
            "marker": {
             "colorbar": {
              "outlinewidth": 0,
              "ticks": ""
             }
            },
            "type": "scatter3d"
           }
          ],
          "scattercarpet": [
           {
            "marker": {
             "colorbar": {
              "outlinewidth": 0,
              "ticks": ""
             }
            },
            "type": "scattercarpet"
           }
          ],
          "scattergeo": [
           {
            "marker": {
             "colorbar": {
              "outlinewidth": 0,
              "ticks": ""
             }
            },
            "type": "scattergeo"
           }
          ],
          "scattergl": [
           {
            "marker": {
             "colorbar": {
              "outlinewidth": 0,
              "ticks": ""
             }
            },
            "type": "scattergl"
           }
          ],
          "scattermap": [
           {
            "marker": {
             "colorbar": {
              "outlinewidth": 0,
              "ticks": ""
             }
            },
            "type": "scattermap"
           }
          ],
          "scattermapbox": [
           {
            "marker": {
             "colorbar": {
              "outlinewidth": 0,
              "ticks": ""
             }
            },
            "type": "scattermapbox"
           }
          ],
          "scatterpolar": [
           {
            "marker": {
             "colorbar": {
              "outlinewidth": 0,
              "ticks": ""
             }
            },
            "type": "scatterpolar"
           }
          ],
          "scatterpolargl": [
           {
            "marker": {
             "colorbar": {
              "outlinewidth": 0,
              "ticks": ""
             }
            },
            "type": "scatterpolargl"
           }
          ],
          "scatterternary": [
           {
            "marker": {
             "colorbar": {
              "outlinewidth": 0,
              "ticks": ""
             }
            },
            "type": "scatterternary"
           }
          ],
          "surface": [
           {
            "colorbar": {
             "outlinewidth": 0,
             "ticks": ""
            },
            "colorscale": [
             [
              0,
              "#0d0887"
             ],
             [
              0.1111111111111111,
              "#46039f"
             ],
             [
              0.2222222222222222,
              "#7201a8"
             ],
             [
              0.3333333333333333,
              "#9c179e"
             ],
             [
              0.4444444444444444,
              "#bd3786"
             ],
             [
              0.5555555555555556,
              "#d8576b"
             ],
             [
              0.6666666666666666,
              "#ed7953"
             ],
             [
              0.7777777777777778,
              "#fb9f3a"
             ],
             [
              0.8888888888888888,
              "#fdca26"
             ],
             [
              1,
              "#f0f921"
             ]
            ],
            "type": "surface"
           }
          ],
          "table": [
           {
            "cells": {
             "fill": {
              "color": "#EBF0F8"
             },
             "line": {
              "color": "white"
             }
            },
            "header": {
             "fill": {
              "color": "#C8D4E3"
             },
             "line": {
              "color": "white"
             }
            },
            "type": "table"
           }
          ]
         },
         "layout": {
          "annotationdefaults": {
           "arrowcolor": "#2a3f5f",
           "arrowhead": 0,
           "arrowwidth": 1
          },
          "autotypenumbers": "strict",
          "coloraxis": {
           "colorbar": {
            "outlinewidth": 0,
            "ticks": ""
           }
          },
          "colorscale": {
           "diverging": [
            [
             0,
             "#8e0152"
            ],
            [
             0.1,
             "#c51b7d"
            ],
            [
             0.2,
             "#de77ae"
            ],
            [
             0.3,
             "#f1b6da"
            ],
            [
             0.4,
             "#fde0ef"
            ],
            [
             0.5,
             "#f7f7f7"
            ],
            [
             0.6,
             "#e6f5d0"
            ],
            [
             0.7,
             "#b8e186"
            ],
            [
             0.8,
             "#7fbc41"
            ],
            [
             0.9,
             "#4d9221"
            ],
            [
             1,
             "#276419"
            ]
           ],
           "sequential": [
            [
             0,
             "#0d0887"
            ],
            [
             0.1111111111111111,
             "#46039f"
            ],
            [
             0.2222222222222222,
             "#7201a8"
            ],
            [
             0.3333333333333333,
             "#9c179e"
            ],
            [
             0.4444444444444444,
             "#bd3786"
            ],
            [
             0.5555555555555556,
             "#d8576b"
            ],
            [
             0.6666666666666666,
             "#ed7953"
            ],
            [
             0.7777777777777778,
             "#fb9f3a"
            ],
            [
             0.8888888888888888,
             "#fdca26"
            ],
            [
             1,
             "#f0f921"
            ]
           ],
           "sequentialminus": [
            [
             0,
             "#0d0887"
            ],
            [
             0.1111111111111111,
             "#46039f"
            ],
            [
             0.2222222222222222,
             "#7201a8"
            ],
            [
             0.3333333333333333,
             "#9c179e"
            ],
            [
             0.4444444444444444,
             "#bd3786"
            ],
            [
             0.5555555555555556,
             "#d8576b"
            ],
            [
             0.6666666666666666,
             "#ed7953"
            ],
            [
             0.7777777777777778,
             "#fb9f3a"
            ],
            [
             0.8888888888888888,
             "#fdca26"
            ],
            [
             1,
             "#f0f921"
            ]
           ]
          },
          "colorway": [
           "#636efa",
           "#EF553B",
           "#00cc96",
           "#ab63fa",
           "#FFA15A",
           "#19d3f3",
           "#FF6692",
           "#B6E880",
           "#FF97FF",
           "#FECB52"
          ],
          "font": {
           "color": "#2a3f5f"
          },
          "geo": {
           "bgcolor": "white",
           "lakecolor": "white",
           "landcolor": "#E5ECF6",
           "showlakes": true,
           "showland": true,
           "subunitcolor": "white"
          },
          "hoverlabel": {
           "align": "left"
          },
          "hovermode": "closest",
          "mapbox": {
           "style": "light"
          },
          "paper_bgcolor": "white",
          "plot_bgcolor": "#E5ECF6",
          "polar": {
           "angularaxis": {
            "gridcolor": "white",
            "linecolor": "white",
            "ticks": ""
           },
           "bgcolor": "#E5ECF6",
           "radialaxis": {
            "gridcolor": "white",
            "linecolor": "white",
            "ticks": ""
           }
          },
          "scene": {
           "xaxis": {
            "backgroundcolor": "#E5ECF6",
            "gridcolor": "white",
            "gridwidth": 2,
            "linecolor": "white",
            "showbackground": true,
            "ticks": "",
            "zerolinecolor": "white"
           },
           "yaxis": {
            "backgroundcolor": "#E5ECF6",
            "gridcolor": "white",
            "gridwidth": 2,
            "linecolor": "white",
            "showbackground": true,
            "ticks": "",
            "zerolinecolor": "white"
           },
           "zaxis": {
            "backgroundcolor": "#E5ECF6",
            "gridcolor": "white",
            "gridwidth": 2,
            "linecolor": "white",
            "showbackground": true,
            "ticks": "",
            "zerolinecolor": "white"
           }
          },
          "shapedefaults": {
           "line": {
            "color": "#2a3f5f"
           }
          },
          "ternary": {
           "aaxis": {
            "gridcolor": "white",
            "linecolor": "white",
            "ticks": ""
           },
           "baxis": {
            "gridcolor": "white",
            "linecolor": "white",
            "ticks": ""
           },
           "bgcolor": "#E5ECF6",
           "caxis": {
            "gridcolor": "white",
            "linecolor": "white",
            "ticks": ""
           }
          },
          "title": {
           "x": 0.05
          },
          "xaxis": {
           "automargin": true,
           "gridcolor": "white",
           "linecolor": "white",
           "ticks": "",
           "title": {
            "standoff": 15
           },
           "zerolinecolor": "white",
           "zerolinewidth": 2
          },
          "yaxis": {
           "automargin": true,
           "gridcolor": "white",
           "linecolor": "white",
           "ticks": "",
           "title": {
            "standoff": 15
           },
           "zerolinecolor": "white",
           "zerolinewidth": 2
          }
         }
        },
        "title": {
         "text": "Exports from China & Diversion Countries: US vs. RoW (2017-2023)"
        },
        "xaxis": {
         "anchor": "y",
         "domain": [
          0,
          1
         ],
         "matches": "x3",
         "showticklabels": false
        },
        "xaxis2": {
         "anchor": "y2",
         "domain": [
          0,
          1
         ],
         "matches": "x3",
         "showticklabels": false
        },
        "xaxis3": {
         "anchor": "y3",
         "domain": [
          0,
          1
         ],
         "title": {
          "text": "Year"
         }
        },
        "yaxis": {
         "anchor": "x",
         "domain": [
          0.72,
          1
         ],
         "title": {
          "text": "Indexed to 2017"
         }
        },
        "yaxis2": {
         "anchor": "x2",
         "domain": [
          0.36,
          0.6399999999999999
         ],
         "title": {
          "text": "Indexed to 2017"
         }
        },
        "yaxis3": {
         "anchor": "x3",
         "domain": [
          0,
          0.27999999999999997
         ],
         "title": {
          "text": "Indexed to 2017"
         }
        }
       }
      }
     },
     "metadata": {},
     "output_type": "display_data"
    }
   ],
   "source": [
    "\n",
    "EXPORTER_GROUP_CODES = [\n",
    "    \"156\",  # China\n",
    "    \"704\",  # Vietnam\n",
    "    \"484\",  # Mexico\n",
    "    \"158\",  # Taiwan\n",
    "    \"410\",  # South Korea\n",
    "    \"458\",  # Malaysia\n",
    "    \"764\",  # Thailand\n",
    "    \"116\",  # Cambodia   \n",
    "]\n",
    "USA_CODE = \"840\"\n",
    "\n",
    "# Prepare data: filter for the exporter group and classify destinations/products\n",
    "exporter_group_lf = unified_lf.filter(\n",
    "    (pl.col(\"reporter_country\").is_in(EXPORTER_GROUP_CODES)) &\n",
    "    (pl.col(\"year\").is_in([str(y) for y in range(2017, 2023)]))\n",
    ").with_columns(\n",
    "    tariff_status=pl.when(pl.col(\"product_code\").is_in(tariffed_products))\n",
    "                   .then(pl.lit(\"Tariffed by US\"))\n",
    "                   .otherwise(pl.lit(\"Non-Tariffed by US\")),\n",
    "    destination=pl.when(pl.col(\"partner_country\") == USA_CODE)\n",
    "                 .then(pl.lit(\"USA\"))\n",
    "                 .otherwise(pl.lit(\"Rest of World\"))\n",
    ")\n",
    "\n",
    "# Group by destination, tariff status, and year, and aggregate all required metrics\n",
    "aggregated_df = exporter_group_lf.group_by(\n",
    "    ['destination', 'tariff_status', 'year']\n",
    ").agg(\n",
    "    pl.sum(\"value\").alias(\"value\"),\n",
    "    pl.sum(\"quantity\").alias(\"quantity\")\n",
    ").sort('year').with_columns(\n",
    "    # Calculate unit value, handling potential division by zero\n",
    "    unit_value=(pl.col(\"value\") / pl.col(\"quantity\")).fill_null(0).fill_nan(0)\n",
    ")\n",
    "\n",
    "# Calculate indexed values for each metric\n",
    "indexed_df = aggregated_df.with_columns(\n",
    "    value_indexed=pl.col(\"value\") / pl.col(\"value\").filter(pl.col(\"year\") == \"2017\").first().over(['destination', 'tariff_status']) * 100,\n",
    "    quantity_indexed=pl.col(\"quantity\") / pl.col(\"quantity\").filter(pl.col(\"year\") == \"2017\").first().over(['destination', 'tariff_status']) * 100,\n",
    "    unit_value_indexed=pl.col(\"unit_value\") / pl.col(\"unit_value\").filter(pl.col(\"year\") == \"2017\").first().over(['destination', 'tariff_status']) * 100,\n",
    ").collect()\n",
    "\n",
    "# Create a figure with 3 vertically stacked subplots\n",
    "fig = make_subplots(\n",
    "    rows=3, cols=1,\n",
    "    shared_xaxes=True,\n",
    "    vertical_spacing=0.08,\n",
    "    subplot_titles=(\"Indexed Export Value\", \"Indexed Export Quantity\", \"Indexed Export Unit Value\")\n",
    ")\n",
    "\n",
    "# Define plot styles for each category\n",
    "styles = {\n",
    "    ('USA', 'Tariffed by US'): {'color': 'crimson', 'dash': 'solid'},\n",
    "    ('USA', 'Non-Tariffed by US'): {'color': 'royalblue', 'dash': 'solid'},\n",
    "    ('Rest of World', 'Tariffed by US'): {'color': 'crimson', 'dash': 'dot'},\n",
    "    ('Rest of World', 'Non-Tariffed by US'): {'color': 'royalblue', 'dash': 'dot'},\n",
    "}\n",
    "\n",
    "# Iterate through each data category to add traces to the subplots\n",
    "for (destination, status), style in styles.items():\n",
    "    plot_data = indexed_df.filter(\n",
    "        (pl.col(\"destination\") == destination) & (pl.col(\"tariff_status\") == status)\n",
    "    )\n",
    "    if plot_data.is_empty():\n",
    "        continue\n",
    "    \n",
    "    legend_name = f\"{destination} - {status}\"\n",
    "    \n",
    "    # Add traces for each metric to its respective subplot\n",
    "    fig.add_trace(go.Scatter(\n",
    "        x=plot_data[\"year\"], y=plot_data[\"value_indexed\"],\n",
    "        name=legend_name, legendgroup=legend_name,\n",
    "        mode='lines', line=style\n",
    "    ), row=1, col=1)\n",
    "\n",
    "    fig.add_trace(go.Scatter(\n",
    "        x=plot_data[\"year\"], y=plot_data[\"quantity_indexed\"],\n",
    "        name=legend_name, legendgroup=legend_name, showlegend=False,\n",
    "        mode='lines', line=style\n",
    "    ), row=2, col=1)\n",
    "    \n",
    "    fig.add_trace(go.Scatter(\n",
    "        x=plot_data[\"year\"], y=plot_data[\"unit_value_indexed\"],\n",
    "        name=legend_name, legendgroup=legend_name, showlegend=False,\n",
    "        mode='lines', line=style\n",
    "    ), row=3, col=1)\n",
    "\n",
    "# Update layout for a clean, readable chart\n",
    "fig.update_layout(\n",
    "    height=800,\n",
    "    title_text='Exports from China & Diversion Countries: US vs. RoW (2017-2023)',\n",
    "    legend_title_text='Destination & Product Type',\n",
    "    hovermode='x unified'\n",
    ")\n",
    "fig.update_yaxes(title_text=\"Indexed to 2017\", row=1, col=1)\n",
    "fig.update_yaxes(title_text=\"Indexed to 2017\", row=2, col=1)\n",
    "fig.update_yaxes(title_text=\"Indexed to 2017\", row=3, col=1)\n",
    "fig.update_xaxes(title_text=\"Year\", row=3, col=1)\n",
    "\n",
    "fig.show()"
   ]
  },
  {
   "cell_type": "markdown",
   "metadata": {},
   "source": [
    "## Chinese exports - tariffed vs non-tariffed to UK vs RoW\n",
    "\n",
    "Comparing Chinese exports over two dimensions - where they went, and whether they were tariffed or not.\n",
    "\n",
    "Our ideal is that exports of tariffed goods increased from China to both RoW and the UK, and stayed the same for non-tariffed goods."
   ]
  },
  {
   "cell_type": "code",
   "execution_count": 9,
   "metadata": {},
   "outputs": [
    {
     "data": {
      "application/vnd.plotly.v1+json": {
       "config": {
        "plotlyServerURL": "https://plot.ly"
       },
       "data": [
        {
         "legendgroup": "UK - Tariffed by US",
         "line": {
          "color": "crimson",
          "dash": "solid"
         },
         "mode": "lines",
         "name": "UK - Tariffed by US",
         "type": "scatter",
         "x": [
          "2017",
          "2018",
          "2019",
          "2020"
         ],
         "xaxis": "x",
         "y": {
          "bdata": "AADIQsqtv0J1C71C53IJQw==",
          "dtype": "f4"
         },
         "yaxis": "y"
        },
        {
         "legendgroup": "UK - Tariffed by US",
         "line": {
          "color": "crimson",
          "dash": "solid"
         },
         "mode": "lines",
         "name": "UK - Tariffed by US",
         "showlegend": false,
         "type": "scatter",
         "x": [
          "2017",
          "2018",
          "2019",
          "2020"
         ],
         "xaxis": "x2",
         "y": {
          "bdata": "AADIQoywrEKhOLJCKky5Qg==",
          "dtype": "f4"
         },
         "yaxis": "y2"
        },
        {
         "legendgroup": "UK - Tariffed by US",
         "line": {
          "color": "crimson",
          "dash": "solid"
         },
         "mode": "lines",
         "name": "UK - Tariffed by US",
         "showlegend": false,
         "type": "scatter",
         "x": [
          "2017",
          "2018",
          "2019",
          "2020"
         ],
         "xaxis": "x3",
         "y": {
          "bdata": "AADIQgn+3UJsJdRC0VoUQw==",
          "dtype": "f4"
         },
         "yaxis": "y3"
        },
        {
         "legendgroup": "UK - Non-Tariffed by US",
         "line": {
          "color": "royalblue",
          "dash": "solid"
         },
         "mode": "lines",
         "name": "UK - Non-Tariffed by US",
         "type": "scatter",
         "x": [
          "2017",
          "2018",
          "2019",
          "2020"
         ],
         "xaxis": "x",
         "y": {
          "bdata": "AADIQnfg1kLrZuZCq2PxQg==",
          "dtype": "f4"
         },
         "yaxis": "y"
        },
        {
         "legendgroup": "UK - Non-Tariffed by US",
         "line": {
          "color": "royalblue",
          "dash": "solid"
         },
         "mode": "lines",
         "name": "UK - Non-Tariffed by US",
         "showlegend": false,
         "type": "scatter",
         "x": [
          "2017",
          "2018",
          "2019",
          "2020"
         ],
         "xaxis": "x2",
         "y": {
          "bdata": "AADIQsJ9uEK2DcVCRC3FQg==",
          "dtype": "f4"
         },
         "yaxis": "y2"
        },
        {
         "legendgroup": "UK - Non-Tariffed by US",
         "line": {
          "color": "royalblue",
          "dash": "solid"
         },
         "mode": "lines",
         "name": "UK - Non-Tariffed by US",
         "showlegend": false,
         "type": "scatter",
         "x": [
          "2017",
          "2018",
          "2019",
          "2020"
         ],
         "xaxis": "x3",
         "y": {
          "bdata": "AADIQpvw6ELb2OlCdtj0Qg==",
          "dtype": "f4"
         },
         "yaxis": "y3"
        },
        {
         "legendgroup": "Rest of World - Tariffed by US",
         "line": {
          "color": "crimson",
          "dash": "dot"
         },
         "mode": "lines",
         "name": "Rest of World - Tariffed by US",
         "type": "scatter",
         "x": [
          "2017",
          "2018",
          "2019",
          "2020"
         ],
         "xaxis": "x",
         "y": {
          "bdata": "AADIQrsH00KkANFCcVHYQg==",
          "dtype": "f4"
         },
         "yaxis": "y"
        },
        {
         "legendgroup": "Rest of World - Tariffed by US",
         "line": {
          "color": "crimson",
          "dash": "dot"
         },
         "mode": "lines",
         "name": "Rest of World - Tariffed by US",
         "showlegend": false,
         "type": "scatter",
         "x": [
          "2017",
          "2018",
          "2019",
          "2020"
         ],
         "xaxis": "x2",
         "y": {
          "bdata": "AADIQvSHzkKhC9dC/g3bQg==",
          "dtype": "f4"
         },
         "yaxis": "y2"
        },
        {
         "legendgroup": "Rest of World - Tariffed by US",
         "line": {
          "color": "crimson",
          "dash": "dot"
         },
         "mode": "lines",
         "name": "Rest of World - Tariffed by US",
         "showlegend": false,
         "type": "scatter",
         "x": [
          "2017",
          "2018",
          "2019",
          "2020"
         ],
         "xaxis": "x3",
         "y": {
          "bdata": "AADIQltbzEI+YcJCY4DFQg==",
          "dtype": "f4"
         },
         "yaxis": "y3"
        },
        {
         "legendgroup": "Rest of World - Non-Tariffed by US",
         "line": {
          "color": "royalblue",
          "dash": "dot"
         },
         "mode": "lines",
         "name": "Rest of World - Non-Tariffed by US",
         "type": "scatter",
         "x": [
          "2017",
          "2018",
          "2019",
          "2020"
         ],
         "xaxis": "x",
         "y": {
          "bdata": "AADIQrlG2UJwZNNCiC/QQg==",
          "dtype": "f4"
         },
         "yaxis": "y"
        },
        {
         "legendgroup": "Rest of World - Non-Tariffed by US",
         "line": {
          "color": "royalblue",
          "dash": "dot"
         },
         "mode": "lines",
         "name": "Rest of World - Non-Tariffed by US",
         "showlegend": false,
         "type": "scatter",
         "x": [
          "2017",
          "2018",
          "2019",
          "2020"
         ],
         "xaxis": "x2",
         "y": {
          "bdata": "AADIQlpdnkJPksJCHRmhQg==",
          "dtype": "f4"
         },
         "yaxis": "y2"
        },
        {
         "legendgroup": "Rest of World - Non-Tariffed by US",
         "line": {
          "color": "royalblue",
          "dash": "dot"
         },
         "mode": "lines",
         "name": "Rest of World - Non-Tariffed by US",
         "showlegend": false,
         "type": "scatter",
         "x": [
          "2017",
          "2018",
          "2019",
          "2020"
         ],
         "xaxis": "x3",
         "y": {
          "bdata": "AADIQjIzCUNFStlCqDoBQw==",
          "dtype": "f4"
         },
         "yaxis": "y3"
        }
       ],
       "layout": {
        "annotations": [
         {
          "font": {
           "size": 16
          },
          "showarrow": false,
          "text": "Indexed Export Value",
          "x": 0.5,
          "xanchor": "center",
          "xref": "paper",
          "y": 1,
          "yanchor": "bottom",
          "yref": "paper"
         },
         {
          "font": {
           "size": 16
          },
          "showarrow": false,
          "text": "Indexed Export Quantity",
          "x": 0.5,
          "xanchor": "center",
          "xref": "paper",
          "y": 0.6399999999999999,
          "yanchor": "bottom",
          "yref": "paper"
         },
         {
          "font": {
           "size": 16
          },
          "showarrow": false,
          "text": "Indexed Export Unit Value",
          "x": 0.5,
          "xanchor": "center",
          "xref": "paper",
          "y": 0.27999999999999997,
          "yanchor": "bottom",
          "yref": "paper"
         }
        ],
        "height": 800,
        "hovermode": "x unified",
        "legend": {
         "title": {
          "text": "Destination & Product Type"
         }
        },
        "template": {
         "data": {
          "bar": [
           {
            "error_x": {
             "color": "#2a3f5f"
            },
            "error_y": {
             "color": "#2a3f5f"
            },
            "marker": {
             "line": {
              "color": "#E5ECF6",
              "width": 0.5
             },
             "pattern": {
              "fillmode": "overlay",
              "size": 10,
              "solidity": 0.2
             }
            },
            "type": "bar"
           }
          ],
          "barpolar": [
           {
            "marker": {
             "line": {
              "color": "#E5ECF6",
              "width": 0.5
             },
             "pattern": {
              "fillmode": "overlay",
              "size": 10,
              "solidity": 0.2
             }
            },
            "type": "barpolar"
           }
          ],
          "carpet": [
           {
            "aaxis": {
             "endlinecolor": "#2a3f5f",
             "gridcolor": "white",
             "linecolor": "white",
             "minorgridcolor": "white",
             "startlinecolor": "#2a3f5f"
            },
            "baxis": {
             "endlinecolor": "#2a3f5f",
             "gridcolor": "white",
             "linecolor": "white",
             "minorgridcolor": "white",
             "startlinecolor": "#2a3f5f"
            },
            "type": "carpet"
           }
          ],
          "choropleth": [
           {
            "colorbar": {
             "outlinewidth": 0,
             "ticks": ""
            },
            "type": "choropleth"
           }
          ],
          "contour": [
           {
            "colorbar": {
             "outlinewidth": 0,
             "ticks": ""
            },
            "colorscale": [
             [
              0,
              "#0d0887"
             ],
             [
              0.1111111111111111,
              "#46039f"
             ],
             [
              0.2222222222222222,
              "#7201a8"
             ],
             [
              0.3333333333333333,
              "#9c179e"
             ],
             [
              0.4444444444444444,
              "#bd3786"
             ],
             [
              0.5555555555555556,
              "#d8576b"
             ],
             [
              0.6666666666666666,
              "#ed7953"
             ],
             [
              0.7777777777777778,
              "#fb9f3a"
             ],
             [
              0.8888888888888888,
              "#fdca26"
             ],
             [
              1,
              "#f0f921"
             ]
            ],
            "type": "contour"
           }
          ],
          "contourcarpet": [
           {
            "colorbar": {
             "outlinewidth": 0,
             "ticks": ""
            },
            "type": "contourcarpet"
           }
          ],
          "heatmap": [
           {
            "colorbar": {
             "outlinewidth": 0,
             "ticks": ""
            },
            "colorscale": [
             [
              0,
              "#0d0887"
             ],
             [
              0.1111111111111111,
              "#46039f"
             ],
             [
              0.2222222222222222,
              "#7201a8"
             ],
             [
              0.3333333333333333,
              "#9c179e"
             ],
             [
              0.4444444444444444,
              "#bd3786"
             ],
             [
              0.5555555555555556,
              "#d8576b"
             ],
             [
              0.6666666666666666,
              "#ed7953"
             ],
             [
              0.7777777777777778,
              "#fb9f3a"
             ],
             [
              0.8888888888888888,
              "#fdca26"
             ],
             [
              1,
              "#f0f921"
             ]
            ],
            "type": "heatmap"
           }
          ],
          "histogram": [
           {
            "marker": {
             "pattern": {
              "fillmode": "overlay",
              "size": 10,
              "solidity": 0.2
             }
            },
            "type": "histogram"
           }
          ],
          "histogram2d": [
           {
            "colorbar": {
             "outlinewidth": 0,
             "ticks": ""
            },
            "colorscale": [
             [
              0,
              "#0d0887"
             ],
             [
              0.1111111111111111,
              "#46039f"
             ],
             [
              0.2222222222222222,
              "#7201a8"
             ],
             [
              0.3333333333333333,
              "#9c179e"
             ],
             [
              0.4444444444444444,
              "#bd3786"
             ],
             [
              0.5555555555555556,
              "#d8576b"
             ],
             [
              0.6666666666666666,
              "#ed7953"
             ],
             [
              0.7777777777777778,
              "#fb9f3a"
             ],
             [
              0.8888888888888888,
              "#fdca26"
             ],
             [
              1,
              "#f0f921"
             ]
            ],
            "type": "histogram2d"
           }
          ],
          "histogram2dcontour": [
           {
            "colorbar": {
             "outlinewidth": 0,
             "ticks": ""
            },
            "colorscale": [
             [
              0,
              "#0d0887"
             ],
             [
              0.1111111111111111,
              "#46039f"
             ],
             [
              0.2222222222222222,
              "#7201a8"
             ],
             [
              0.3333333333333333,
              "#9c179e"
             ],
             [
              0.4444444444444444,
              "#bd3786"
             ],
             [
              0.5555555555555556,
              "#d8576b"
             ],
             [
              0.6666666666666666,
              "#ed7953"
             ],
             [
              0.7777777777777778,
              "#fb9f3a"
             ],
             [
              0.8888888888888888,
              "#fdca26"
             ],
             [
              1,
              "#f0f921"
             ]
            ],
            "type": "histogram2dcontour"
           }
          ],
          "mesh3d": [
           {
            "colorbar": {
             "outlinewidth": 0,
             "ticks": ""
            },
            "type": "mesh3d"
           }
          ],
          "parcoords": [
           {
            "line": {
             "colorbar": {
              "outlinewidth": 0,
              "ticks": ""
             }
            },
            "type": "parcoords"
           }
          ],
          "pie": [
           {
            "automargin": true,
            "type": "pie"
           }
          ],
          "scatter": [
           {
            "fillpattern": {
             "fillmode": "overlay",
             "size": 10,
             "solidity": 0.2
            },
            "type": "scatter"
           }
          ],
          "scatter3d": [
           {
            "line": {
             "colorbar": {
              "outlinewidth": 0,
              "ticks": ""
             }
            },
            "marker": {
             "colorbar": {
              "outlinewidth": 0,
              "ticks": ""
             }
            },
            "type": "scatter3d"
           }
          ],
          "scattercarpet": [
           {
            "marker": {
             "colorbar": {
              "outlinewidth": 0,
              "ticks": ""
             }
            },
            "type": "scattercarpet"
           }
          ],
          "scattergeo": [
           {
            "marker": {
             "colorbar": {
              "outlinewidth": 0,
              "ticks": ""
             }
            },
            "type": "scattergeo"
           }
          ],
          "scattergl": [
           {
            "marker": {
             "colorbar": {
              "outlinewidth": 0,
              "ticks": ""
             }
            },
            "type": "scattergl"
           }
          ],
          "scattermap": [
           {
            "marker": {
             "colorbar": {
              "outlinewidth": 0,
              "ticks": ""
             }
            },
            "type": "scattermap"
           }
          ],
          "scattermapbox": [
           {
            "marker": {
             "colorbar": {
              "outlinewidth": 0,
              "ticks": ""
             }
            },
            "type": "scattermapbox"
           }
          ],
          "scatterpolar": [
           {
            "marker": {
             "colorbar": {
              "outlinewidth": 0,
              "ticks": ""
             }
            },
            "type": "scatterpolar"
           }
          ],
          "scatterpolargl": [
           {
            "marker": {
             "colorbar": {
              "outlinewidth": 0,
              "ticks": ""
             }
            },
            "type": "scatterpolargl"
           }
          ],
          "scatterternary": [
           {
            "marker": {
             "colorbar": {
              "outlinewidth": 0,
              "ticks": ""
             }
            },
            "type": "scatterternary"
           }
          ],
          "surface": [
           {
            "colorbar": {
             "outlinewidth": 0,
             "ticks": ""
            },
            "colorscale": [
             [
              0,
              "#0d0887"
             ],
             [
              0.1111111111111111,
              "#46039f"
             ],
             [
              0.2222222222222222,
              "#7201a8"
             ],
             [
              0.3333333333333333,
              "#9c179e"
             ],
             [
              0.4444444444444444,
              "#bd3786"
             ],
             [
              0.5555555555555556,
              "#d8576b"
             ],
             [
              0.6666666666666666,
              "#ed7953"
             ],
             [
              0.7777777777777778,
              "#fb9f3a"
             ],
             [
              0.8888888888888888,
              "#fdca26"
             ],
             [
              1,
              "#f0f921"
             ]
            ],
            "type": "surface"
           }
          ],
          "table": [
           {
            "cells": {
             "fill": {
              "color": "#EBF0F8"
             },
             "line": {
              "color": "white"
             }
            },
            "header": {
             "fill": {
              "color": "#C8D4E3"
             },
             "line": {
              "color": "white"
             }
            },
            "type": "table"
           }
          ]
         },
         "layout": {
          "annotationdefaults": {
           "arrowcolor": "#2a3f5f",
           "arrowhead": 0,
           "arrowwidth": 1
          },
          "autotypenumbers": "strict",
          "coloraxis": {
           "colorbar": {
            "outlinewidth": 0,
            "ticks": ""
           }
          },
          "colorscale": {
           "diverging": [
            [
             0,
             "#8e0152"
            ],
            [
             0.1,
             "#c51b7d"
            ],
            [
             0.2,
             "#de77ae"
            ],
            [
             0.3,
             "#f1b6da"
            ],
            [
             0.4,
             "#fde0ef"
            ],
            [
             0.5,
             "#f7f7f7"
            ],
            [
             0.6,
             "#e6f5d0"
            ],
            [
             0.7,
             "#b8e186"
            ],
            [
             0.8,
             "#7fbc41"
            ],
            [
             0.9,
             "#4d9221"
            ],
            [
             1,
             "#276419"
            ]
           ],
           "sequential": [
            [
             0,
             "#0d0887"
            ],
            [
             0.1111111111111111,
             "#46039f"
            ],
            [
             0.2222222222222222,
             "#7201a8"
            ],
            [
             0.3333333333333333,
             "#9c179e"
            ],
            [
             0.4444444444444444,
             "#bd3786"
            ],
            [
             0.5555555555555556,
             "#d8576b"
            ],
            [
             0.6666666666666666,
             "#ed7953"
            ],
            [
             0.7777777777777778,
             "#fb9f3a"
            ],
            [
             0.8888888888888888,
             "#fdca26"
            ],
            [
             1,
             "#f0f921"
            ]
           ],
           "sequentialminus": [
            [
             0,
             "#0d0887"
            ],
            [
             0.1111111111111111,
             "#46039f"
            ],
            [
             0.2222222222222222,
             "#7201a8"
            ],
            [
             0.3333333333333333,
             "#9c179e"
            ],
            [
             0.4444444444444444,
             "#bd3786"
            ],
            [
             0.5555555555555556,
             "#d8576b"
            ],
            [
             0.6666666666666666,
             "#ed7953"
            ],
            [
             0.7777777777777778,
             "#fb9f3a"
            ],
            [
             0.8888888888888888,
             "#fdca26"
            ],
            [
             1,
             "#f0f921"
            ]
           ]
          },
          "colorway": [
           "#636efa",
           "#EF553B",
           "#00cc96",
           "#ab63fa",
           "#FFA15A",
           "#19d3f3",
           "#FF6692",
           "#B6E880",
           "#FF97FF",
           "#FECB52"
          ],
          "font": {
           "color": "#2a3f5f"
          },
          "geo": {
           "bgcolor": "white",
           "lakecolor": "white",
           "landcolor": "#E5ECF6",
           "showlakes": true,
           "showland": true,
           "subunitcolor": "white"
          },
          "hoverlabel": {
           "align": "left"
          },
          "hovermode": "closest",
          "mapbox": {
           "style": "light"
          },
          "paper_bgcolor": "white",
          "plot_bgcolor": "#E5ECF6",
          "polar": {
           "angularaxis": {
            "gridcolor": "white",
            "linecolor": "white",
            "ticks": ""
           },
           "bgcolor": "#E5ECF6",
           "radialaxis": {
            "gridcolor": "white",
            "linecolor": "white",
            "ticks": ""
           }
          },
          "scene": {
           "xaxis": {
            "backgroundcolor": "#E5ECF6",
            "gridcolor": "white",
            "gridwidth": 2,
            "linecolor": "white",
            "showbackground": true,
            "ticks": "",
            "zerolinecolor": "white"
           },
           "yaxis": {
            "backgroundcolor": "#E5ECF6",
            "gridcolor": "white",
            "gridwidth": 2,
            "linecolor": "white",
            "showbackground": true,
            "ticks": "",
            "zerolinecolor": "white"
           },
           "zaxis": {
            "backgroundcolor": "#E5ECF6",
            "gridcolor": "white",
            "gridwidth": 2,
            "linecolor": "white",
            "showbackground": true,
            "ticks": "",
            "zerolinecolor": "white"
           }
          },
          "shapedefaults": {
           "line": {
            "color": "#2a3f5f"
           }
          },
          "ternary": {
           "aaxis": {
            "gridcolor": "white",
            "linecolor": "white",
            "ticks": ""
           },
           "baxis": {
            "gridcolor": "white",
            "linecolor": "white",
            "ticks": ""
           },
           "bgcolor": "#E5ECF6",
           "caxis": {
            "gridcolor": "white",
            "linecolor": "white",
            "ticks": ""
           }
          },
          "title": {
           "x": 0.05
          },
          "xaxis": {
           "automargin": true,
           "gridcolor": "white",
           "linecolor": "white",
           "ticks": "",
           "title": {
            "standoff": 15
           },
           "zerolinecolor": "white",
           "zerolinewidth": 2
          },
          "yaxis": {
           "automargin": true,
           "gridcolor": "white",
           "linecolor": "white",
           "ticks": "",
           "title": {
            "standoff": 15
           },
           "zerolinecolor": "white",
           "zerolinewidth": 2
          }
         }
        },
        "title": {
         "text": "Chinese Export Trends: UK vs. Rest of World (2017-2023)"
        },
        "xaxis": {
         "anchor": "y",
         "domain": [
          0,
          1
         ],
         "matches": "x3",
         "showticklabels": false
        },
        "xaxis2": {
         "anchor": "y2",
         "domain": [
          0,
          1
         ],
         "matches": "x3",
         "showticklabels": false
        },
        "xaxis3": {
         "anchor": "y3",
         "domain": [
          0,
          1
         ],
         "title": {
          "text": "Year"
         }
        },
        "yaxis": {
         "anchor": "x",
         "domain": [
          0.72,
          1
         ],
         "title": {
          "text": "Indexed to 2017"
         }
        },
        "yaxis2": {
         "anchor": "x2",
         "domain": [
          0.36,
          0.6399999999999999
         ],
         "title": {
          "text": "Indexed to 2017"
         }
        },
        "yaxis3": {
         "anchor": "x3",
         "domain": [
          0,
          0.27999999999999997
         ],
         "title": {
          "text": "Indexed to 2017"
         }
        }
       }
      }
     },
     "metadata": {},
     "output_type": "display_data"
    }
   ],
   "source": [
    "UK_CODE = \"826\"\n",
    "# Prepare data: filter for Chinese exports and classify destinations/products\n",
    "chinese_exports_lf = unified_lf.filter(\n",
    "    (pl.col(\"reporter_country\") == CHINA_CODE) &\n",
    "    (pl.col(\"year\").is_in([str(y) for y in range(2017, 2021)]))\n",
    ").with_columns(\n",
    "    tariff_status=pl.when(pl.col(\"product_code\").is_in(tariffed_products))\n",
    "                   .then(pl.lit(\"Tariffed by US\"))\n",
    "                   .otherwise(pl.lit(\"Non-Tariffed by US\")),\n",
    "    destination=pl.when(pl.col(\"partner_country\") == UK_CODE)\n",
    "                 .then(pl.lit(\"UK\"))\n",
    "                 .otherwise(pl.lit(\"Rest of World\"))\n",
    ")\n",
    "\n",
    "# Group by destination, tariff status, and year, and aggregate all required metrics\n",
    "aggregated_df = chinese_exports_lf.group_by(\n",
    "    ['destination', 'tariff_status', 'year']\n",
    ").agg(\n",
    "    pl.sum(\"value\").alias(\"value\"),\n",
    "    pl.sum(\"quantity\").alias(\"quantity\")\n",
    ").sort('year').with_columns(\n",
    "    # Calculate unit value, handling potential division by zero\n",
    "    unit_value=(pl.col(\"value\") / pl.col(\"quantity\")).fill_null(0).fill_nan(0)\n",
    ")\n",
    "\n",
    "# Calculate indexed values for each metric\n",
    "indexed_df = aggregated_df.with_columns(\n",
    "    value_indexed=pl.col(\"value\") / pl.col(\"value\").filter(pl.col(\"year\") == \"2017\").first().over(['destination', 'tariff_status']) * 100,\n",
    "    quantity_indexed=pl.col(\"quantity\") / pl.col(\"quantity\").filter(pl.col(\"year\") == \"2017\").first().over(['destination', 'tariff_status']) * 100,\n",
    "    unit_value_indexed=pl.col(\"unit_value\") / pl.col(\"unit_value\").filter(pl.col(\"year\") == \"2017\").first().over(['destination', 'tariff_status']) * 100,\n",
    ").collect()\n",
    "\n",
    "# Create a figure with 3 vertically stacked subplots\n",
    "fig = make_subplots(\n",
    "    rows=3, cols=1,\n",
    "    shared_xaxes=True,\n",
    "    vertical_spacing=0.08,\n",
    "    subplot_titles=(\"Indexed Export Value\", \"Indexed Export Quantity\", \"Indexed Export Unit Value\")\n",
    ")\n",
    "\n",
    "# Define plot styles for each category\n",
    "styles = {\n",
    "    ('UK', 'Tariffed by US'): {'color': 'crimson', 'dash': 'solid'},\n",
    "    ('UK', 'Non-Tariffed by US'): {'color': 'royalblue', 'dash': 'solid'},\n",
    "    ('Rest of World', 'Tariffed by US'): {'color': 'crimson', 'dash': 'dot'},\n",
    "    ('Rest of World', 'Non-Tariffed by US'): {'color': 'royalblue', 'dash': 'dot'},\n",
    "}\n",
    "\n",
    "# Iterate through each data category to add traces to the subplots\n",
    "for (destination, status), style in styles.items():\n",
    "    plot_data = indexed_df.filter(\n",
    "        (pl.col(\"destination\") == destination) & (pl.col(\"tariff_status\") == status)\n",
    "    )\n",
    "    if plot_data.is_empty():\n",
    "        continue\n",
    "    \n",
    "    legend_name = f\"{destination} - {status}\"\n",
    "    \n",
    "    # Add traces for each metric to its respective subplot\n",
    "    fig.add_trace(go.Scatter(\n",
    "        x=plot_data[\"year\"], y=plot_data[\"value_indexed\"],\n",
    "        name=legend_name, legendgroup=legend_name,\n",
    "        mode='lines', line=style\n",
    "    ), row=1, col=1)\n",
    "\n",
    "    fig.add_trace(go.Scatter(\n",
    "        x=plot_data[\"year\"], y=plot_data[\"quantity_indexed\"],\n",
    "        name=legend_name, legendgroup=legend_name, showlegend=False,\n",
    "        mode='lines', line=style\n",
    "    ), row=2, col=1)\n",
    "    \n",
    "    fig.add_trace(go.Scatter(\n",
    "        x=plot_data[\"year\"], y=plot_data[\"unit_value_indexed\"],\n",
    "        name=legend_name, legendgroup=legend_name, showlegend=False,\n",
    "        mode='lines', line=style\n",
    "    ), row=3, col=1)\n",
    "\n",
    "# Update layout for a clean, readable chart\n",
    "fig.update_layout(\n",
    "    height=800,\n",
    "    title_text='Chinese Export Trends: UK vs. Rest of World (2017-2023)',\n",
    "    legend_title_text='Destination & Product Type',\n",
    "    hovermode='x unified'\n",
    ")\n",
    "fig.update_yaxes(title_text=\"Indexed to 2017\", row=1, col=1)\n",
    "fig.update_yaxes(title_text=\"Indexed to 2017\", row=2, col=1)\n",
    "fig.update_yaxes(title_text=\"Indexed to 2017\", row=3, col=1)\n",
    "fig.update_xaxes(title_text=\"Year\", row=3, col=1)\n",
    "\n",
    "fig.show()"
   ]
  },
  {
   "cell_type": "markdown",
   "metadata": {},
   "source": [
    "## UK import trends: China vs RoW on tariffed vs non-tariffed products\n",
    "\n",
    "How did UK imports evolve, comparing those from RoW and those from China, over tariffed vs non-tariffed goods? "
   ]
  },
  {
   "cell_type": "code",
   "execution_count": 10,
   "metadata": {},
   "outputs": [
    {
     "data": {
      "application/vnd.plotly.v1+json": {
       "config": {
        "plotlyServerURL": "https://plot.ly"
       },
       "data": [
        {
         "legendgroup": "China - Tariffed by US",
         "line": {
          "color": "crimson",
          "dash": "solid"
         },
         "mode": "lines",
         "name": "China - Tariffed by US",
         "type": "scatter",
         "x": [
          "2017",
          "2018",
          "2019",
          "2020"
         ],
         "xaxis": "x",
         "y": {
          "bdata": "AADIQsqtv0J1C71C53IJQw==",
          "dtype": "f4"
         },
         "yaxis": "y"
        },
        {
         "legendgroup": "China - Tariffed by US",
         "line": {
          "color": "crimson",
          "dash": "solid"
         },
         "mode": "lines",
         "name": "China - Tariffed by US",
         "showlegend": false,
         "type": "scatter",
         "x": [
          "2017",
          "2018",
          "2019",
          "2020"
         ],
         "xaxis": "x2",
         "y": {
          "bdata": "AADIQoywrEKhOLJCKky5Qg==",
          "dtype": "f4"
         },
         "yaxis": "y2"
        },
        {
         "legendgroup": "China - Tariffed by US",
         "line": {
          "color": "crimson",
          "dash": "solid"
         },
         "mode": "lines",
         "name": "China - Tariffed by US",
         "showlegend": false,
         "type": "scatter",
         "x": [
          "2017",
          "2018",
          "2019",
          "2020"
         ],
         "xaxis": "x3",
         "y": {
          "bdata": "AADIQgn+3UJsJdRC0VoUQw==",
          "dtype": "f4"
         },
         "yaxis": "y3"
        },
        {
         "legendgroup": "China - Non-Tariffed by US",
         "line": {
          "color": "royalblue",
          "dash": "solid"
         },
         "mode": "lines",
         "name": "China - Non-Tariffed by US",
         "type": "scatter",
         "x": [
          "2017",
          "2018",
          "2019",
          "2020"
         ],
         "xaxis": "x",
         "y": {
          "bdata": "AADIQnfg1kLrZuZCq2PxQg==",
          "dtype": "f4"
         },
         "yaxis": "y"
        },
        {
         "legendgroup": "China - Non-Tariffed by US",
         "line": {
          "color": "royalblue",
          "dash": "solid"
         },
         "mode": "lines",
         "name": "China - Non-Tariffed by US",
         "showlegend": false,
         "type": "scatter",
         "x": [
          "2017",
          "2018",
          "2019",
          "2020"
         ],
         "xaxis": "x2",
         "y": {
          "bdata": "AADIQsJ9uEK2DcVCRC3FQg==",
          "dtype": "f4"
         },
         "yaxis": "y2"
        },
        {
         "legendgroup": "China - Non-Tariffed by US",
         "line": {
          "color": "royalblue",
          "dash": "solid"
         },
         "mode": "lines",
         "name": "China - Non-Tariffed by US",
         "showlegend": false,
         "type": "scatter",
         "x": [
          "2017",
          "2018",
          "2019",
          "2020"
         ],
         "xaxis": "x3",
         "y": {
          "bdata": "AADIQpvw6ELb2OlCdtj0Qg==",
          "dtype": "f4"
         },
         "yaxis": "y3"
        },
        {
         "legendgroup": "Rest of World - Tariffed by US",
         "line": {
          "color": "crimson",
          "dash": "dot"
         },
         "mode": "lines",
         "name": "Rest of World - Tariffed by US",
         "type": "scatter",
         "x": [
          "2017",
          "2018",
          "2019",
          "2020"
         ],
         "xaxis": "x",
         "y": {
          "bdata": "AADIQpkh0kK3U9FCVg64Qg==",
          "dtype": "f4"
         },
         "yaxis": "y"
        },
        {
         "legendgroup": "Rest of World - Tariffed by US",
         "line": {
          "color": "crimson",
          "dash": "dot"
         },
         "mode": "lines",
         "name": "Rest of World - Tariffed by US",
         "showlegend": false,
         "type": "scatter",
         "x": [
          "2017",
          "2018",
          "2019",
          "2020"
         ],
         "xaxis": "x2",
         "y": {
          "bdata": "AADIQnYk0kKoa9hCtmTHQg==",
          "dtype": "f4"
         },
         "yaxis": "y2"
        },
        {
         "legendgroup": "Rest of World - Tariffed by US",
         "line": {
          "color": "crimson",
          "dash": "dot"
         },
         "mode": "lines",
         "name": "Rest of World - Tariffed by US",
         "showlegend": false,
         "type": "scatter",
         "x": [
          "2017",
          "2018",
          "2019",
          "2020"
         ],
         "xaxis": "x3",
         "y": {
          "bdata": "AADIQkb9x0LXccFCr524Qg==",
          "dtype": "f4"
         },
         "yaxis": "y3"
        },
        {
         "legendgroup": "Rest of World - Non-Tariffed by US",
         "line": {
          "color": "royalblue",
          "dash": "dot"
         },
         "mode": "lines",
         "name": "Rest of World - Non-Tariffed by US",
         "type": "scatter",
         "x": [
          "2017",
          "2018",
          "2019",
          "2020"
         ],
         "xaxis": "x",
         "y": {
          "bdata": "AADIQuw700L4estCHg29Qg==",
          "dtype": "f4"
         },
         "yaxis": "y"
        },
        {
         "legendgroup": "Rest of World - Non-Tariffed by US",
         "line": {
          "color": "royalblue",
          "dash": "dot"
         },
         "mode": "lines",
         "name": "Rest of World - Non-Tariffed by US",
         "showlegend": false,
         "type": "scatter",
         "x": [
          "2017",
          "2018",
          "2019",
          "2020"
         ],
         "xaxis": "x2",
         "y": {
          "bdata": "AADIQg17xkLyALhCR7irQg==",
          "dtype": "f4"
         },
         "yaxis": "y2"
        },
        {
         "legendgroup": "Rest of World - Non-Tariffed by US",
         "line": {
          "color": "royalblue",
          "dash": "dot"
         },
         "mode": "lines",
         "name": "Rest of World - Non-Tariffed by US",
         "showlegend": false,
         "type": "scatter",
         "x": [
          "2017",
          "2018",
          "2019",
          "2020"
         ],
         "xaxis": "x3",
         "y": {
          "bdata": "AADIQt3Z1EJ8K91CiC/cQg==",
          "dtype": "f4"
         },
         "yaxis": "y3"
        }
       ],
       "layout": {
        "annotations": [
         {
          "font": {
           "size": 16
          },
          "showarrow": false,
          "text": "Indexed Import Value",
          "x": 0.5,
          "xanchor": "center",
          "xref": "paper",
          "y": 1,
          "yanchor": "bottom",
          "yref": "paper"
         },
         {
          "font": {
           "size": 16
          },
          "showarrow": false,
          "text": "Indexed Import Quantity",
          "x": 0.5,
          "xanchor": "center",
          "xref": "paper",
          "y": 0.6399999999999999,
          "yanchor": "bottom",
          "yref": "paper"
         },
         {
          "font": {
           "size": 16
          },
          "showarrow": false,
          "text": "Indexed Import Unit Value",
          "x": 0.5,
          "xanchor": "center",
          "xref": "paper",
          "y": 0.27999999999999997,
          "yanchor": "bottom",
          "yref": "paper"
         }
        ],
        "height": 800,
        "hovermode": "x unified",
        "legend": {
         "title": {
          "text": "Destination & Product Type"
         }
        },
        "template": {
         "data": {
          "bar": [
           {
            "error_x": {
             "color": "#2a3f5f"
            },
            "error_y": {
             "color": "#2a3f5f"
            },
            "marker": {
             "line": {
              "color": "#E5ECF6",
              "width": 0.5
             },
             "pattern": {
              "fillmode": "overlay",
              "size": 10,
              "solidity": 0.2
             }
            },
            "type": "bar"
           }
          ],
          "barpolar": [
           {
            "marker": {
             "line": {
              "color": "#E5ECF6",
              "width": 0.5
             },
             "pattern": {
              "fillmode": "overlay",
              "size": 10,
              "solidity": 0.2
             }
            },
            "type": "barpolar"
           }
          ],
          "carpet": [
           {
            "aaxis": {
             "endlinecolor": "#2a3f5f",
             "gridcolor": "white",
             "linecolor": "white",
             "minorgridcolor": "white",
             "startlinecolor": "#2a3f5f"
            },
            "baxis": {
             "endlinecolor": "#2a3f5f",
             "gridcolor": "white",
             "linecolor": "white",
             "minorgridcolor": "white",
             "startlinecolor": "#2a3f5f"
            },
            "type": "carpet"
           }
          ],
          "choropleth": [
           {
            "colorbar": {
             "outlinewidth": 0,
             "ticks": ""
            },
            "type": "choropleth"
           }
          ],
          "contour": [
           {
            "colorbar": {
             "outlinewidth": 0,
             "ticks": ""
            },
            "colorscale": [
             [
              0,
              "#0d0887"
             ],
             [
              0.1111111111111111,
              "#46039f"
             ],
             [
              0.2222222222222222,
              "#7201a8"
             ],
             [
              0.3333333333333333,
              "#9c179e"
             ],
             [
              0.4444444444444444,
              "#bd3786"
             ],
             [
              0.5555555555555556,
              "#d8576b"
             ],
             [
              0.6666666666666666,
              "#ed7953"
             ],
             [
              0.7777777777777778,
              "#fb9f3a"
             ],
             [
              0.8888888888888888,
              "#fdca26"
             ],
             [
              1,
              "#f0f921"
             ]
            ],
            "type": "contour"
           }
          ],
          "contourcarpet": [
           {
            "colorbar": {
             "outlinewidth": 0,
             "ticks": ""
            },
            "type": "contourcarpet"
           }
          ],
          "heatmap": [
           {
            "colorbar": {
             "outlinewidth": 0,
             "ticks": ""
            },
            "colorscale": [
             [
              0,
              "#0d0887"
             ],
             [
              0.1111111111111111,
              "#46039f"
             ],
             [
              0.2222222222222222,
              "#7201a8"
             ],
             [
              0.3333333333333333,
              "#9c179e"
             ],
             [
              0.4444444444444444,
              "#bd3786"
             ],
             [
              0.5555555555555556,
              "#d8576b"
             ],
             [
              0.6666666666666666,
              "#ed7953"
             ],
             [
              0.7777777777777778,
              "#fb9f3a"
             ],
             [
              0.8888888888888888,
              "#fdca26"
             ],
             [
              1,
              "#f0f921"
             ]
            ],
            "type": "heatmap"
           }
          ],
          "histogram": [
           {
            "marker": {
             "pattern": {
              "fillmode": "overlay",
              "size": 10,
              "solidity": 0.2
             }
            },
            "type": "histogram"
           }
          ],
          "histogram2d": [
           {
            "colorbar": {
             "outlinewidth": 0,
             "ticks": ""
            },
            "colorscale": [
             [
              0,
              "#0d0887"
             ],
             [
              0.1111111111111111,
              "#46039f"
             ],
             [
              0.2222222222222222,
              "#7201a8"
             ],
             [
              0.3333333333333333,
              "#9c179e"
             ],
             [
              0.4444444444444444,
              "#bd3786"
             ],
             [
              0.5555555555555556,
              "#d8576b"
             ],
             [
              0.6666666666666666,
              "#ed7953"
             ],
             [
              0.7777777777777778,
              "#fb9f3a"
             ],
             [
              0.8888888888888888,
              "#fdca26"
             ],
             [
              1,
              "#f0f921"
             ]
            ],
            "type": "histogram2d"
           }
          ],
          "histogram2dcontour": [
           {
            "colorbar": {
             "outlinewidth": 0,
             "ticks": ""
            },
            "colorscale": [
             [
              0,
              "#0d0887"
             ],
             [
              0.1111111111111111,
              "#46039f"
             ],
             [
              0.2222222222222222,
              "#7201a8"
             ],
             [
              0.3333333333333333,
              "#9c179e"
             ],
             [
              0.4444444444444444,
              "#bd3786"
             ],
             [
              0.5555555555555556,
              "#d8576b"
             ],
             [
              0.6666666666666666,
              "#ed7953"
             ],
             [
              0.7777777777777778,
              "#fb9f3a"
             ],
             [
              0.8888888888888888,
              "#fdca26"
             ],
             [
              1,
              "#f0f921"
             ]
            ],
            "type": "histogram2dcontour"
           }
          ],
          "mesh3d": [
           {
            "colorbar": {
             "outlinewidth": 0,
             "ticks": ""
            },
            "type": "mesh3d"
           }
          ],
          "parcoords": [
           {
            "line": {
             "colorbar": {
              "outlinewidth": 0,
              "ticks": ""
             }
            },
            "type": "parcoords"
           }
          ],
          "pie": [
           {
            "automargin": true,
            "type": "pie"
           }
          ],
          "scatter": [
           {
            "fillpattern": {
             "fillmode": "overlay",
             "size": 10,
             "solidity": 0.2
            },
            "type": "scatter"
           }
          ],
          "scatter3d": [
           {
            "line": {
             "colorbar": {
              "outlinewidth": 0,
              "ticks": ""
             }
            },
            "marker": {
             "colorbar": {
              "outlinewidth": 0,
              "ticks": ""
             }
            },
            "type": "scatter3d"
           }
          ],
          "scattercarpet": [
           {
            "marker": {
             "colorbar": {
              "outlinewidth": 0,
              "ticks": ""
             }
            },
            "type": "scattercarpet"
           }
          ],
          "scattergeo": [
           {
            "marker": {
             "colorbar": {
              "outlinewidth": 0,
              "ticks": ""
             }
            },
            "type": "scattergeo"
           }
          ],
          "scattergl": [
           {
            "marker": {
             "colorbar": {
              "outlinewidth": 0,
              "ticks": ""
             }
            },
            "type": "scattergl"
           }
          ],
          "scattermap": [
           {
            "marker": {
             "colorbar": {
              "outlinewidth": 0,
              "ticks": ""
             }
            },
            "type": "scattermap"
           }
          ],
          "scattermapbox": [
           {
            "marker": {
             "colorbar": {
              "outlinewidth": 0,
              "ticks": ""
             }
            },
            "type": "scattermapbox"
           }
          ],
          "scatterpolar": [
           {
            "marker": {
             "colorbar": {
              "outlinewidth": 0,
              "ticks": ""
             }
            },
            "type": "scatterpolar"
           }
          ],
          "scatterpolargl": [
           {
            "marker": {
             "colorbar": {
              "outlinewidth": 0,
              "ticks": ""
             }
            },
            "type": "scatterpolargl"
           }
          ],
          "scatterternary": [
           {
            "marker": {
             "colorbar": {
              "outlinewidth": 0,
              "ticks": ""
             }
            },
            "type": "scatterternary"
           }
          ],
          "surface": [
           {
            "colorbar": {
             "outlinewidth": 0,
             "ticks": ""
            },
            "colorscale": [
             [
              0,
              "#0d0887"
             ],
             [
              0.1111111111111111,
              "#46039f"
             ],
             [
              0.2222222222222222,
              "#7201a8"
             ],
             [
              0.3333333333333333,
              "#9c179e"
             ],
             [
              0.4444444444444444,
              "#bd3786"
             ],
             [
              0.5555555555555556,
              "#d8576b"
             ],
             [
              0.6666666666666666,
              "#ed7953"
             ],
             [
              0.7777777777777778,
              "#fb9f3a"
             ],
             [
              0.8888888888888888,
              "#fdca26"
             ],
             [
              1,
              "#f0f921"
             ]
            ],
            "type": "surface"
           }
          ],
          "table": [
           {
            "cells": {
             "fill": {
              "color": "#EBF0F8"
             },
             "line": {
              "color": "white"
             }
            },
            "header": {
             "fill": {
              "color": "#C8D4E3"
             },
             "line": {
              "color": "white"
             }
            },
            "type": "table"
           }
          ]
         },
         "layout": {
          "annotationdefaults": {
           "arrowcolor": "#2a3f5f",
           "arrowhead": 0,
           "arrowwidth": 1
          },
          "autotypenumbers": "strict",
          "coloraxis": {
           "colorbar": {
            "outlinewidth": 0,
            "ticks": ""
           }
          },
          "colorscale": {
           "diverging": [
            [
             0,
             "#8e0152"
            ],
            [
             0.1,
             "#c51b7d"
            ],
            [
             0.2,
             "#de77ae"
            ],
            [
             0.3,
             "#f1b6da"
            ],
            [
             0.4,
             "#fde0ef"
            ],
            [
             0.5,
             "#f7f7f7"
            ],
            [
             0.6,
             "#e6f5d0"
            ],
            [
             0.7,
             "#b8e186"
            ],
            [
             0.8,
             "#7fbc41"
            ],
            [
             0.9,
             "#4d9221"
            ],
            [
             1,
             "#276419"
            ]
           ],
           "sequential": [
            [
             0,
             "#0d0887"
            ],
            [
             0.1111111111111111,
             "#46039f"
            ],
            [
             0.2222222222222222,
             "#7201a8"
            ],
            [
             0.3333333333333333,
             "#9c179e"
            ],
            [
             0.4444444444444444,
             "#bd3786"
            ],
            [
             0.5555555555555556,
             "#d8576b"
            ],
            [
             0.6666666666666666,
             "#ed7953"
            ],
            [
             0.7777777777777778,
             "#fb9f3a"
            ],
            [
             0.8888888888888888,
             "#fdca26"
            ],
            [
             1,
             "#f0f921"
            ]
           ],
           "sequentialminus": [
            [
             0,
             "#0d0887"
            ],
            [
             0.1111111111111111,
             "#46039f"
            ],
            [
             0.2222222222222222,
             "#7201a8"
            ],
            [
             0.3333333333333333,
             "#9c179e"
            ],
            [
             0.4444444444444444,
             "#bd3786"
            ],
            [
             0.5555555555555556,
             "#d8576b"
            ],
            [
             0.6666666666666666,
             "#ed7953"
            ],
            [
             0.7777777777777778,
             "#fb9f3a"
            ],
            [
             0.8888888888888888,
             "#fdca26"
            ],
            [
             1,
             "#f0f921"
            ]
           ]
          },
          "colorway": [
           "#636efa",
           "#EF553B",
           "#00cc96",
           "#ab63fa",
           "#FFA15A",
           "#19d3f3",
           "#FF6692",
           "#B6E880",
           "#FF97FF",
           "#FECB52"
          ],
          "font": {
           "color": "#2a3f5f"
          },
          "geo": {
           "bgcolor": "white",
           "lakecolor": "white",
           "landcolor": "#E5ECF6",
           "showlakes": true,
           "showland": true,
           "subunitcolor": "white"
          },
          "hoverlabel": {
           "align": "left"
          },
          "hovermode": "closest",
          "mapbox": {
           "style": "light"
          },
          "paper_bgcolor": "white",
          "plot_bgcolor": "#E5ECF6",
          "polar": {
           "angularaxis": {
            "gridcolor": "white",
            "linecolor": "white",
            "ticks": ""
           },
           "bgcolor": "#E5ECF6",
           "radialaxis": {
            "gridcolor": "white",
            "linecolor": "white",
            "ticks": ""
           }
          },
          "scene": {
           "xaxis": {
            "backgroundcolor": "#E5ECF6",
            "gridcolor": "white",
            "gridwidth": 2,
            "linecolor": "white",
            "showbackground": true,
            "ticks": "",
            "zerolinecolor": "white"
           },
           "yaxis": {
            "backgroundcolor": "#E5ECF6",
            "gridcolor": "white",
            "gridwidth": 2,
            "linecolor": "white",
            "showbackground": true,
            "ticks": "",
            "zerolinecolor": "white"
           },
           "zaxis": {
            "backgroundcolor": "#E5ECF6",
            "gridcolor": "white",
            "gridwidth": 2,
            "linecolor": "white",
            "showbackground": true,
            "ticks": "",
            "zerolinecolor": "white"
           }
          },
          "shapedefaults": {
           "line": {
            "color": "#2a3f5f"
           }
          },
          "ternary": {
           "aaxis": {
            "gridcolor": "white",
            "linecolor": "white",
            "ticks": ""
           },
           "baxis": {
            "gridcolor": "white",
            "linecolor": "white",
            "ticks": ""
           },
           "bgcolor": "#E5ECF6",
           "caxis": {
            "gridcolor": "white",
            "linecolor": "white",
            "ticks": ""
           }
          },
          "title": {
           "x": 0.05
          },
          "xaxis": {
           "automargin": true,
           "gridcolor": "white",
           "linecolor": "white",
           "ticks": "",
           "title": {
            "standoff": 15
           },
           "zerolinecolor": "white",
           "zerolinewidth": 2
          },
          "yaxis": {
           "automargin": true,
           "gridcolor": "white",
           "linecolor": "white",
           "ticks": "",
           "title": {
            "standoff": 15
           },
           "zerolinecolor": "white",
           "zerolinewidth": 2
          }
         }
        },
        "title": {
         "text": "UK Import Trends: China vs. Rest of World"
        },
        "xaxis": {
         "anchor": "y",
         "domain": [
          0,
          1
         ],
         "matches": "x3",
         "showticklabels": false
        },
        "xaxis2": {
         "anchor": "y2",
         "domain": [
          0,
          1
         ],
         "matches": "x3",
         "showticklabels": false
        },
        "xaxis3": {
         "anchor": "y3",
         "domain": [
          0,
          1
         ],
         "title": {
          "text": "Year"
         }
        },
        "yaxis": {
         "anchor": "x",
         "domain": [
          0.72,
          1
         ],
         "title": {
          "text": "Indexed to 2017"
         }
        },
        "yaxis2": {
         "anchor": "x2",
         "domain": [
          0.36,
          0.6399999999999999
         ],
         "title": {
          "text": "Indexed to 2017"
         }
        },
        "yaxis3": {
         "anchor": "x3",
         "domain": [
          0,
          0.27999999999999997
         ],
         "title": {
          "text": "Indexed to 2017"
         }
        }
       }
      }
     },
     "metadata": {},
     "output_type": "display_data"
    }
   ],
   "source": [
    "\n",
    "# Prepare data: filter for Chinese exports and classify destinations/products\n",
    "uk_imports_lf = unified_lf.filter(\n",
    "    (pl.col(\"partner_country\") == UK_CODE) &\n",
    "    (pl.col(\"year\").is_in([str(y) for y in range(2017, 2021)]))\n",
    ").with_columns(\n",
    "    tariff_status=pl.when(pl.col(\"product_code\").is_in(tariffed_products))\n",
    "                   .then(pl.lit(\"Tariffed by US\"))\n",
    "                   .otherwise(pl.lit(\"Non-Tariffed by US\")),\n",
    "    source=pl.when(pl.col(\"reporter_country\") == CHINA_CODE)\n",
    "                 .then(pl.lit(\"China\"))\n",
    "                 .otherwise(pl.lit(\"Rest of World\"))\n",
    ")\n",
    "\n",
    "# Group by destination, tariff status, and year, and aggregate all required metrics\n",
    "aggregated_df = uk_imports_lf.group_by(\n",
    "    ['source', 'tariff_status', 'year']\n",
    ").agg(\n",
    "    pl.sum(\"value\").alias(\"value\"),\n",
    "    pl.sum(\"quantity\").alias(\"quantity\")\n",
    ").sort('year').with_columns(\n",
    "    # Calculate unit value, handling potential division by zero\n",
    "    unit_value=(pl.col(\"value\") / pl.col(\"quantity\")).fill_null(0).fill_nan(0)\n",
    ")\n",
    "\n",
    "# Calculate indexed values for each metric\n",
    "indexed_df = aggregated_df.with_columns(\n",
    "    value_indexed=pl.col(\"value\") / pl.col(\"value\").filter(pl.col(\"year\") == \"2017\").first().over(['source', 'tariff_status']) * 100,\n",
    "    quantity_indexed=pl.col(\"quantity\") / pl.col(\"quantity\").filter(pl.col(\"year\") == \"2017\").first().over(['source', 'tariff_status']) * 100,\n",
    "    unit_value_indexed=pl.col(\"unit_value\") / pl.col(\"unit_value\").filter(pl.col(\"year\") == \"2017\").first().over(['source', 'tariff_status']) * 100,\n",
    ").collect()\n",
    "\n",
    "# Create a figure with 3 vertically stacked subplots\n",
    "fig = make_subplots(\n",
    "    rows=3, cols=1,\n",
    "    shared_xaxes=True,\n",
    "    vertical_spacing=0.08,\n",
    "    subplot_titles=(\"Indexed Import Value\", \"Indexed Import Quantity\", \"Indexed Import Unit Value\")\n",
    ")\n",
    "\n",
    "# Define plot styles for each category\n",
    "styles = {\n",
    "    ('China', 'Tariffed by US'): {'color': 'crimson', 'dash': 'solid'},\n",
    "    ('China', 'Non-Tariffed by US'): {'color': 'royalblue', 'dash': 'solid'},\n",
    "    ('Rest of World', 'Tariffed by US'): {'color': 'crimson', 'dash': 'dot'},\n",
    "    ('Rest of World', 'Non-Tariffed by US'): {'color': 'royalblue', 'dash': 'dot'},\n",
    "}\n",
    "\n",
    "# Iterate through each data category to add traces to the subplots\n",
    "for (source, status), style in styles.items():\n",
    "    plot_data = indexed_df.filter(\n",
    "        (pl.col(\"source\") == source) & (pl.col(\"tariff_status\") == status)\n",
    "    )\n",
    "    if plot_data.is_empty():\n",
    "        continue\n",
    "    \n",
    "    legend_name = f\"{source} - {status}\"\n",
    "    \n",
    "    # Add traces for each metric to its respective subplot\n",
    "    fig.add_trace(go.Scatter(\n",
    "        x=plot_data[\"year\"], y=plot_data[\"value_indexed\"],\n",
    "        name=legend_name, legendgroup=legend_name,\n",
    "        mode='lines', line=style\n",
    "    ), row=1, col=1)\n",
    "\n",
    "    fig.add_trace(go.Scatter(\n",
    "        x=plot_data[\"year\"], y=plot_data[\"quantity_indexed\"],\n",
    "        name=legend_name, legendgroup=legend_name, showlegend=False,\n",
    "        mode='lines', line=style\n",
    "    ), row=2, col=1)\n",
    "    \n",
    "    fig.add_trace(go.Scatter(\n",
    "        x=plot_data[\"year\"], y=plot_data[\"unit_value_indexed\"],\n",
    "        name=legend_name, legendgroup=legend_name, showlegend=False,\n",
    "        mode='lines', line=style\n",
    "    ), row=3, col=1)\n",
    "\n",
    "# Update layout for a clean, readable chart\n",
    "fig.update_layout(\n",
    "    height=800,\n",
    "    title_text='UK Import Trends: China vs. Rest of World',\n",
    "    legend_title_text='Destination & Product Type',\n",
    "    hovermode='x unified'\n",
    ")\n",
    "fig.update_yaxes(title_text=\"Indexed to 2017\", row=1, col=1)\n",
    "fig.update_yaxes(title_text=\"Indexed to 2017\", row=2, col=1)\n",
    "fig.update_yaxes(title_text=\"Indexed to 2017\", row=3, col=1)\n",
    "fig.update_xaxes(title_text=\"Year\", row=3, col=1)\n",
    "\n",
    "fig.show()"
   ]
  }
 ],
 "metadata": {
  "kernelspec": {
   "display_name": "tariff_trade_analysis",
   "language": "python",
   "name": "tariff_trade_analysis"
  },
  "language_info": {
   "codemirror_mode": {
    "name": "ipython",
    "version": 3
   },
   "file_extension": ".py",
   "mimetype": "text/x-python",
   "name": "python",
   "nbconvert_exporter": "python",
   "pygments_lexer": "ipython3",
   "version": "3.13.2"
  }
 },
 "nbformat": 4,
 "nbformat_minor": 2
}
